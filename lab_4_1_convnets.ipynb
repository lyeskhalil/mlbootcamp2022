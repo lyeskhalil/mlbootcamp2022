{
  "cells": [
    {
      "cell_type": "markdown",
      "metadata": {
        "id": "view-in-github",
        "colab_type": "text"
      },
      "source": [
        "<a href=\"https://colab.research.google.com/github/lyeskhalil/mlbootcamp2022/blob/main/lab_4_1_convnets.ipynb\" target=\"_parent\"><img src=\"https://colab.research.google.com/assets/colab-badge.svg\" alt=\"Open In Colab\"/></a>"
      ]
    },
    {
      "cell_type": "markdown",
      "metadata": {
        "id": "vk0LoqhRIhuT"
      },
      "source": [
        "[![Open In Colab](https://colab.research.google.com/assets/colab-badge.svg)](https://colab.research.google.com/github/lyeskhalil/mlbootcamp2022/blob/main/lab_4_1_convnets.ipynb)\n",
        "\n",
        "# UofT FASE ML Bootcamp\n",
        "#### Wednesday June 16, 2022\n",
        "#### Convolutional Neural Network - Lab 1, Day 3 \n",
        "#### Teaching team: Elias Khalil, Alex Olson, Rahul Patel, and Jake Mosseri\n",
        "##### Lab author: Rahul Patel, rm.patel@mail.utoronto.ca\n",
        "##### Adapted from: [Transfer learning for computer vision tutorial](https://pytorch.org/tutorials/beginner/transfer_learning_tutorial.html#transfer-learning-for-computer-vision-tutorial)\n"
      ]
    },
    {
      "cell_type": "markdown",
      "metadata": {
        "id": "IWWYgttBIhuX"
      },
      "source": [
        "In this lab, we will learn about convolution neural networks (CNN) and how to do transfer learning using a pretrained CNN for an image classification task."
      ]
    },
    {
      "cell_type": "code",
      "execution_count": 1,
      "metadata": {
        "id": "LWQyyScGIhuY"
      },
      "outputs": [],
      "source": [
        "# Basic imports\n",
        "import os\n",
        "import copy\n",
        "\n",
        "import numpy as np\n",
        "import matplotlib.pyplot as plt\n",
        "\n",
        "import time\n",
        "\n",
        "from pathlib import Path\n",
        "from os import system"
      ]
    },
    {
      "cell_type": "markdown",
      "source": [
        "### Convolution Neural Networks\n",
        "\n",
        "A CNN is a type of model that allows us to efficiently extract features from image data to perform various downstream tasks like image classification, segmentation etc. CNNs learn \"filters\" that recognize patterns, and can then look for the presence of these patterns anywhere in the image.\n",
        "\n",
        "As we move to working with more complex models, we need ever increasing amounts of training data. This poses a challenge when we are dealing with a highly specific task that may not have a lot of data available. Luckily, we aren't totally stuck here. We can take advantage of transfer learning.\n",
        "\n",
        "In a nutshell, transfer learning refers to when we take a model trained on a more general task, and then re-train part of that model to deal with our more specific problem. For example, in this lab we will take a convolutional network which is trained to recognize a wide array of objects, and re-train part of it to distinguish specific insects. The hope is that the broader task has allowed the model to learn useful patterns to recognize, and when re-training on our specific problem it can use what it has learned to solve the task.\n",
        "\n",
        "These two major transfer learning scenarios look as follows:\n",
        "\n",
        "- **ConvNet as fixed feature extractor**: Here, we will freeze the weights (i.e. not learn any further) for all of the network except that of the final fully connected layer. This last fully connected layer is replaced with a new one with random weights and only this layer is trained. In this way, the parts of the model which deal with the image itself will stay the same, and only the final decision-making part which predicts the subject of the image will be changed.\n",
        "\n",
        "- **Finetuning the ConvNet**: Here, instead of random initialization, we take the existing trained network and allow the model to change any part of it during re-training. In this way, patterns that may be useful for e.g. identifying a boat can be discarded by the model and replaced with patterns that are useful for identifying more task-relevant elements."
      ],
      "metadata": {
        "id": "ty97STzGTYhT"
      }
    },
    {
      "cell_type": "code",
      "execution_count": 11,
      "metadata": {
        "id": "YYb9noojIhua"
      },
      "outputs": [],
      "source": [
        "# Necessary imports\n",
        "import torch\n",
        "import torch.nn as nn\n",
        "import torch.optim as optim\n",
        "from torch.optim import lr_scheduler\n",
        "import torch.backends.cudnn as cudnn\n",
        "import torchvision\n",
        "from torchvision import datasets, models, transforms\n",
        "\n",
        "cudnn.benchmark = True\n",
        "plt.ion()  "
      ]
    },
    {
      "cell_type": "markdown",
      "source": [
        "### Load Data\n",
        "\n",
        "We will use `torchvision` and `torch.utils.data` packages for loading the data.\n",
        "\n",
        "The problem we’re going to solve today is to train a model to classify ants and bees. We have about 120 training images each for ants and bees. There are 75 validation images for each class. If we train a model from scratch using this data, we will likely find that we just don't have enough data to make good predictions. But we can take advantage of models that have already been trained on tens of thousands of images across many different categories so that the model already knows how to identify important features of an image."
      ],
      "metadata": {
        "id": "4wvOtJv9jyqz"
      }
    },
    {
      "cell_type": "code",
      "source": [
        "# Download the dataset from Pytorch's website (unless it is already downloaded!)\n",
        "if not Path('hymenoptera_data.zip').exists(): \n",
        "  system('wget https://download.pytorch.org/tutorial/hymenoptera_data.zip')\n",
        "\n",
        "if not Path('hymenoptera_data').exists():\n",
        "  system('unzip hymenoptera_data.zip')\n",
        "\n",
        "# The images we have downloaded are not in the exact format we need,\n",
        "# so we'll adjust them here. While we're at it, we also make some random\n",
        "# transformations to the training data, so that it's like we have extra samples\n",
        "# (a bee that is upside down should still be recognized as a bee!)\n",
        "data_transforms = {\n",
        "    'train': transforms.Compose([\n",
        "        transforms.RandomResizedCrop(224),\n",
        "        transforms.RandomHorizontalFlip(),\n",
        "        transforms.ToTensor(),\n",
        "        transforms.Normalize([0.485, 0.456, 0.406], [0.229, 0.224, 0.225])\n",
        "    ]),\n",
        "    'val': transforms.Compose([\n",
        "        transforms.Resize(256),\n",
        "        transforms.CenterCrop(224),\n",
        "        transforms.ToTensor(),\n",
        "        transforms.Normalize([0.485, 0.456, 0.406], [0.229, 0.224, 0.225])\n",
        "    ]),\n",
        "}\n",
        "\n",
        "data_dir = './hymenoptera_data'\n",
        "image_datasets = {x: datasets.ImageFolder(os.path.join(data_dir, x),\n",
        "                                          data_transforms[x])\n",
        "                  for x in ['train', 'val']}\n",
        "\n",
        "dataloaders = {x: torch.utils.data.DataLoader(image_datasets[x], batch_size=4,\n",
        "                                             shuffle=True, num_workers=2)\n",
        "              for x in ['train', 'val']}\n",
        "\n",
        "dataset_sizes = {x: len(image_datasets[x]) for x in ['train', 'val']}\n",
        "\n",
        "class_names = image_datasets['train'].classes\n",
        "\n",
        "# Determine whether a GPU is available for training or not.\n",
        "device = torch.device(\"cuda:0\" if torch.cuda.is_available() else \"cpu\")\n",
        "print(f'Training on {device}')"
      ],
      "metadata": {
        "colab": {
          "base_uri": "https://localhost:8080/"
        },
        "id": "X0aEQ6nDdRZV",
        "outputId": "2386f038-9ce4-4add-ae59-273a3ac67e34"
      },
      "execution_count": 25,
      "outputs": [
        {
          "output_type": "stream",
          "name": "stdout",
          "text": [
            "Training on cuda:0\n"
          ]
        }
      ]
    },
    {
      "cell_type": "markdown",
      "source": [
        "### Visualize a few images\n",
        "\n",
        "Let’s visualize a few training images so as to understand the data augmentations. "
      ],
      "metadata": {
        "id": "dHYbrFT9mE05"
      }
    },
    {
      "cell_type": "code",
      "source": [
        "def imshow(inp, title=None):\n",
        "    \"\"\"Imshow for Tensor.\"\"\"\n",
        "    inp = inp.numpy().transpose((1, 2, 0))\n",
        "    mean = np.array([0.485, 0.456, 0.406])\n",
        "    std = np.array([0.229, 0.224, 0.225])\n",
        "    inp = std * inp + mean\n",
        "    inp = np.clip(inp, 0, 1)\n",
        "    plt.imshow(inp)\n",
        "    if title is not None:\n",
        "        plt.title(title)\n",
        "    plt.pause(0.001)  # pause a bit so that plots are updated\n",
        "\n",
        "\n",
        "# Get a batch of training data\n",
        "inputs, classes = next(iter(dataloaders['train']))\n",
        "\n",
        "# Make a grid from batch\n",
        "out = torchvision.utils.make_grid(inputs)\n",
        "\n",
        "imshow(out, title=[class_names[x] for x in classes])"
      ],
      "metadata": {
        "colab": {
          "base_uri": "https://localhost:8080/",
          "height": 148
        },
        "id": "L3PR8bikfWLJ",
        "outputId": "f97def70-1c24-428a-b75f-3a705dbb8b62"
      },
      "execution_count": 29,
      "outputs": [
        {
          "output_type": "display_data",
          "data": {
            "text/plain": [
              "<Figure size 432x288 with 1 Axes>"
            ],
            "image/png": "[encoded data removed]"
          },
          "metadata": {
            "needs_background": "light"
          }
        }
      ]
    },
    {
      "cell_type": "markdown",
      "source": [
        "### Training loop\n",
        "\n",
        "In the previous labs, we picked a single learning rate to use during training.\n",
        "We can be more sophisticated, however. PyTorch (and other popular ML libraries) are capable of changing (\"scheduling\") the learning rate automatically over the course of training. Generally, as the error improves we want to gradually reduce the learning rate - think of this as focusing on smaller and smaller problems in the prediction as we get closer to an optimal solution.\n",
        "\n",
        "The code below sets up how our model is going to train. This includes a learning rate scheduler, and all the stages of the training are commented. Try to read through and see if you understand what's going on."
      ],
      "metadata": {
        "id": "dX242ucGoCaD"
      }
    },
    {
      "cell_type": "code",
      "source": [
        "# Training loop\n",
        "\n",
        "def train_model(model, criterion, optimizer, scheduler, num_epochs=25):\n",
        "    since = time.time() #We are going to track how long training took - save the current time.\n",
        "\n",
        "    best_model_wts = copy.deepcopy(model.state_dict()) #Typically we try to save the best version of the model as we go - the final iteration might be slightly worse than one before it!\n",
        "    best_acc = 0.0\n",
        "\n",
        "    for epoch in range(num_epochs):\n",
        "        print(f'Epoch {epoch}/{num_epochs - 1}')\n",
        "        print('-' * 10)\n",
        "\n",
        "        # Each epoch has a training and validation phase\n",
        "        for phase in ['train', 'val']:\n",
        "            if phase == 'train':\n",
        "                model.train()  # Set model to training mode\n",
        "            else:\n",
        "                model.eval()   # Set model to evaluate mode\n",
        "\n",
        "            running_loss = 0.0\n",
        "            running_corrects = 0\n",
        "\n",
        "            # Iterate over data.\n",
        "            for inputs, labels in dataloaders[phase]:\n",
        "                inputs = inputs.to(device) #Send the data to the GPU\n",
        "                labels = labels.to(device)\n",
        "\n",
        "                # zero the parameter gradients\n",
        "                optimizer.zero_grad()\n",
        "\n",
        "                # forward\n",
        "                # track history if only in train\n",
        "                with torch.set_grad_enabled(phase == 'train'):\n",
        "                    outputs = model(inputs)\n",
        "                    _, preds = torch.max(outputs, 1)\n",
        "                    loss = criterion(outputs, labels)\n",
        "\n",
        "                    # backward + optimize only if in training phase\n",
        "                    if phase == 'train':\n",
        "                        loss.backward()\n",
        "                        optimizer.step()\n",
        "\n",
        "                # statistics\n",
        "                running_loss += loss.item() * inputs.size(0)\n",
        "                running_corrects += torch.sum(preds == labels.data)\n",
        "            if phase == 'train':\n",
        "                scheduler.step() #The scheduler sets our learning rate - this tells it to check if it's time to decrease the LR\n",
        "\n",
        "            epoch_loss = running_loss / dataset_sizes[phase]\n",
        "            epoch_acc = running_corrects.double() / dataset_sizes[phase]\n",
        "\n",
        "            print(f'{phase} Loss: {epoch_loss:.4f} Acc: {epoch_acc:.4f}')\n",
        "\n",
        "            # If this epoch has the best performance so far, we save a copy of it\n",
        "            if phase == 'val' and epoch_acc > best_acc:\n",
        "                best_acc = epoch_acc\n",
        "                best_model_wts = copy.deepcopy(model.state_dict())\n",
        "\n",
        "        print()\n",
        "\n",
        "    time_elapsed = time.time() - since\n",
        "    print(f'Training complete in {time_elapsed // 60:.0f}m {time_elapsed % 60:.0f}s')\n",
        "    print(f'Best val Acc: {best_acc:4f}')\n",
        "\n",
        "    # load best model weights\n",
        "    model.load_state_dict(best_model_wts)\n",
        "    return model"
      ],
      "metadata": {
        "id": "_AgR-Vwofu5E"
      },
      "execution_count": 30,
      "outputs": []
    },
    {
      "cell_type": "markdown",
      "source": [
        "### Visualizing the model predictions\n",
        "\n",
        "Generic function to display predictions for a few images"
      ],
      "metadata": {
        "id": "CNzoQNqKpiA1"
      }
    },
    {
      "cell_type": "code",
      "source": [
        "def visualize_model(model, num_images=6):\n",
        "    was_training = model.training\n",
        "    model.eval()\n",
        "    images_so_far = 0\n",
        "    fig = plt.figure()\n",
        "\n",
        "    with torch.no_grad():\n",
        "        for i, (inputs, labels) in enumerate(dataloaders['val']):\n",
        "            inputs = inputs.to(device)\n",
        "            labels = labels.to(device)\n",
        "\n",
        "            outputs = model(inputs)\n",
        "            _, preds = torch.max(outputs, 1)\n",
        "\n",
        "            for j in range(inputs.size()[0]):\n",
        "                images_so_far += 1\n",
        "                ax = plt.subplot(num_images//2, 2, images_so_far)\n",
        "                ax.axis('off')\n",
        "                ax.set_title(f'predicted: {class_names[preds[j]]}')\n",
        "                imshow(inputs.cpu().data[j])\n",
        "\n",
        "                if images_so_far == num_images:\n",
        "                    model.train(mode=was_training)\n",
        "                    return\n",
        "        model.train(mode=was_training)"
      ],
      "metadata": {
        "id": "tDVOufiyf9vp"
      },
      "execution_count": 31,
      "outputs": []
    },
    {
      "cell_type": "markdown",
      "source": [
        "Before we try transfer learning, let's get a sense of what we are comparing against. We will start out by training a model _only_ on our ant and bee dataset.\n",
        "\n",
        "We are going to use a pre-defined model, but specify that we don't want to use the weights associated with it - we'll make our own."
      ],
      "metadata": {
        "id": "Q3KBeCTmqkAf"
      }
    },
    {
      "cell_type": "markdown",
      "source": [
        "**YOUR TURN**:\n",
        "\n",
        "- Load a ResNet18 model using `torchvision.models` _without_ pretrained weights: Follow the instructions [here](https://pytorch.org/vision/stable/models.html) to learn about constructing CNN models with standard architectures used in the literature. \n",
        "\n",
        "For example: For creating an AlexNet, the CNN architecture proposed by Geoff Hinton, Alex Krizhevsky and Ilya Sutskever that won the ImageNet competition in 2012, with pretrained weights we call:\n",
        "\n",
        "`alexnet = torchvision.models.alexnet(pretrained=True)` \n"
      ],
      "metadata": {
        "id": "NIGq8AhUsrt9"
      }
    },
    {
      "cell_type": "code",
      "source": [
        "model_conv = ## YOUR CODE HERE"
      ],
      "metadata": {
        "id": "Bix-N_9ItvPr"
      },
      "execution_count": 35,
      "outputs": []
    },
    {
      "cell_type": "code",
      "source": [
        "model_conv = model_conv.to(device) #Move the model to our GPU\n",
        "\n",
        "criterion = nn.CrossEntropyLoss() #Set up our loss function\n",
        "\n",
        "#Set up stochastic gradient descent with a learning rate of 0.001\n",
        "optimizer_conv = optim.SGD(model_conv.parameters(), lr=0.001)\n",
        "\n",
        "# Decay LR by a factor of 0.1 every 7 epochs\n",
        "exp_lr_scheduler = lr_scheduler.StepLR(optimizer_conv, step_size=7, gamma=0.1)\n",
        "\n",
        "model_conv = train_model(model_conv, criterion, optimizer_conv,\n",
        "                         exp_lr_scheduler, num_epochs=10)"
      ],
      "metadata": {
        "colab": {
          "base_uri": "https://localhost:8080/",
          "height": 392
        },
        "id": "OcaPBnSUzUbL",
        "outputId": "18b50afa-019c-4bb5-eea9-2f664f6109de"
      },
      "execution_count": 37,
      "outputs": [
        {
          "output_type": "stream",
          "name": "stdout",
          "text": [
            "Epoch 0/9\n",
            "----------\n",
            "train Loss: 0.6579 Acc: 0.5738\n"
          ]
        },
        {
          "output_type": "error",
          "ename": "KeyboardInterrupt",
          "evalue": "ignored",
          "traceback": [
            "\u001b[0;31m---------------------------------------------------------------------------\u001b[0m",
            "\u001b[0;31mKeyboardInterrupt\u001b[0m                         Traceback (most recent call last)",
            "\u001b[0;32m<ipython-input-37-abbed71c109c>\u001b[0m in \u001b[0;36m<module>\u001b[0;34m()\u001b[0m\n\u001b[1;32m     10\u001b[0m \u001b[0;34m\u001b[0m\u001b[0m\n\u001b[1;32m     11\u001b[0m model_conv = train_model(model_conv, criterion, optimizer_conv,\n\u001b[0;32m---> 12\u001b[0;31m                          exp_lr_scheduler, num_epochs=10)\n\u001b[0m",
            "\u001b[0;32m<ipython-input-30-b9f08696a968>\u001b[0m in \u001b[0;36mtrain_model\u001b[0;34m(model, criterion, optimizer, scheduler, num_epochs)\u001b[0m\n\u001b[1;32m     22\u001b[0m \u001b[0;34m\u001b[0m\u001b[0m\n\u001b[1;32m     23\u001b[0m             \u001b[0;31m# Iterate over data.\u001b[0m\u001b[0;34m\u001b[0m\u001b[0;34m\u001b[0m\u001b[0;34m\u001b[0m\u001b[0m\n\u001b[0;32m---> 24\u001b[0;31m             \u001b[0;32mfor\u001b[0m \u001b[0minputs\u001b[0m\u001b[0;34m,\u001b[0m \u001b[0mlabels\u001b[0m \u001b[0;32min\u001b[0m \u001b[0mdataloaders\u001b[0m\u001b[0;34m[\u001b[0m\u001b[0mphase\u001b[0m\u001b[0;34m]\u001b[0m\u001b[0;34m:\u001b[0m\u001b[0;34m\u001b[0m\u001b[0;34m\u001b[0m\u001b[0m\n\u001b[0m\u001b[1;32m     25\u001b[0m                 \u001b[0minputs\u001b[0m \u001b[0;34m=\u001b[0m \u001b[0minputs\u001b[0m\u001b[0;34m.\u001b[0m\u001b[0mto\u001b[0m\u001b[0;34m(\u001b[0m\u001b[0mdevice\u001b[0m\u001b[0;34m)\u001b[0m \u001b[0;31m#Send the data to the GPU\u001b[0m\u001b[0;34m\u001b[0m\u001b[0;34m\u001b[0m\u001b[0m\n\u001b[1;32m     26\u001b[0m                 \u001b[0mlabels\u001b[0m \u001b[0;34m=\u001b[0m \u001b[0mlabels\u001b[0m\u001b[0;34m.\u001b[0m\u001b[0mto\u001b[0m\u001b[0;34m(\u001b[0m\u001b[0mdevice\u001b[0m\u001b[0;34m)\u001b[0m\u001b[0;34m\u001b[0m\u001b[0;34m\u001b[0m\u001b[0m\n",
            "\u001b[0;32m/usr/local/lib/python3.7/dist-packages/torch/utils/data/dataloader.py\u001b[0m in \u001b[0;36m__next__\u001b[0;34m(self)\u001b[0m\n\u001b[1;32m    528\u001b[0m             \u001b[0;32mif\u001b[0m \u001b[0mself\u001b[0m\u001b[0;34m.\u001b[0m\u001b[0m_sampler_iter\u001b[0m \u001b[0;32mis\u001b[0m \u001b[0;32mNone\u001b[0m\u001b[0;34m:\u001b[0m\u001b[0;34m\u001b[0m\u001b[0;34m\u001b[0m\u001b[0m\n\u001b[1;32m    529\u001b[0m                 \u001b[0mself\u001b[0m\u001b[0;34m.\u001b[0m\u001b[0m_reset\u001b[0m\u001b[0;34m(\u001b[0m\u001b[0;34m)\u001b[0m\u001b[0;34m\u001b[0m\u001b[0;34m\u001b[0m\u001b[0m\n\u001b[0;32m--> 530\u001b[0;31m             \u001b[0mdata\u001b[0m \u001b[0;34m=\u001b[0m \u001b[0mself\u001b[0m\u001b[0;34m.\u001b[0m\u001b[0m_next_data\u001b[0m\u001b[0;34m(\u001b[0m\u001b[0;34m)\u001b[0m\u001b[0;34m\u001b[0m\u001b[0;34m\u001b[0m\u001b[0m\n\u001b[0m\u001b[1;32m    531\u001b[0m             \u001b[0mself\u001b[0m\u001b[0;34m.\u001b[0m\u001b[0m_num_yielded\u001b[0m \u001b[0;34m+=\u001b[0m \u001b[0;36m1\u001b[0m\u001b[0;34m\u001b[0m\u001b[0;34m\u001b[0m\u001b[0m\n\u001b[1;32m    532\u001b[0m             \u001b[0;32mif\u001b[0m \u001b[0mself\u001b[0m\u001b[0;34m.\u001b[0m\u001b[0m_dataset_kind\u001b[0m \u001b[0;34m==\u001b[0m \u001b[0m_DatasetKind\u001b[0m\u001b[0;34m.\u001b[0m\u001b[0mIterable\u001b[0m \u001b[0;32mand\u001b[0m\u001b[0;31m \u001b[0m\u001b[0;31m\\\u001b[0m\u001b[0;34m\u001b[0m\u001b[0;34m\u001b[0m\u001b[0m\n",
            "\u001b[0;32m/usr/local/lib/python3.7/dist-packages/torch/utils/data/dataloader.py\u001b[0m in \u001b[0;36m_next_data\u001b[0;34m(self)\u001b[0m\n\u001b[1;32m   1194\u001b[0m                 \u001b[0;31m# no valid `self._rcvd_idx` is found (i.e., didn't break)\u001b[0m\u001b[0;34m\u001b[0m\u001b[0;34m\u001b[0m\u001b[0;34m\u001b[0m\u001b[0m\n\u001b[1;32m   1195\u001b[0m                 \u001b[0;32mif\u001b[0m \u001b[0;32mnot\u001b[0m \u001b[0mself\u001b[0m\u001b[0;34m.\u001b[0m\u001b[0m_persistent_workers\u001b[0m\u001b[0;34m:\u001b[0m\u001b[0;34m\u001b[0m\u001b[0;34m\u001b[0m\u001b[0m\n\u001b[0;32m-> 1196\u001b[0;31m                     \u001b[0mself\u001b[0m\u001b[0;34m.\u001b[0m\u001b[0m_shutdown_workers\u001b[0m\u001b[0;34m(\u001b[0m\u001b[0;34m)\u001b[0m\u001b[0;34m\u001b[0m\u001b[0;34m\u001b[0m\u001b[0m\n\u001b[0m\u001b[1;32m   1197\u001b[0m                 \u001b[0;32mraise\u001b[0m \u001b[0mStopIteration\u001b[0m\u001b[0;34m\u001b[0m\u001b[0;34m\u001b[0m\u001b[0m\n\u001b[1;32m   1198\u001b[0m \u001b[0;34m\u001b[0m\u001b[0m\n",
            "\u001b[0;32m/usr/local/lib/python3.7/dist-packages/torch/utils/data/dataloader.py\u001b[0m in \u001b[0;36m_shutdown_workers\u001b[0;34m(self)\u001b[0m\n\u001b[1;32m   1320\u001b[0m                     \u001b[0;31m# wrong, we set a timeout and if the workers fail to join,\u001b[0m\u001b[0;34m\u001b[0m\u001b[0;34m\u001b[0m\u001b[0;34m\u001b[0m\u001b[0m\n\u001b[1;32m   1321\u001b[0m                     \u001b[0;31m# they are killed in the `finally` block.\u001b[0m\u001b[0;34m\u001b[0m\u001b[0;34m\u001b[0m\u001b[0;34m\u001b[0m\u001b[0m\n\u001b[0;32m-> 1322\u001b[0;31m                     \u001b[0mw\u001b[0m\u001b[0;34m.\u001b[0m\u001b[0mjoin\u001b[0m\u001b[0;34m(\u001b[0m\u001b[0mtimeout\u001b[0m\u001b[0;34m=\u001b[0m\u001b[0m_utils\u001b[0m\u001b[0;34m.\u001b[0m\u001b[0mMP_STATUS_CHECK_INTERVAL\u001b[0m\u001b[0;34m)\u001b[0m\u001b[0;34m\u001b[0m\u001b[0;34m\u001b[0m\u001b[0m\n\u001b[0m\u001b[1;32m   1323\u001b[0m                 \u001b[0;32mfor\u001b[0m \u001b[0mq\u001b[0m \u001b[0;32min\u001b[0m \u001b[0mself\u001b[0m\u001b[0;34m.\u001b[0m\u001b[0m_index_queues\u001b[0m\u001b[0;34m:\u001b[0m\u001b[0;34m\u001b[0m\u001b[0;34m\u001b[0m\u001b[0m\n\u001b[1;32m   1324\u001b[0m                     \u001b[0mq\u001b[0m\u001b[0;34m.\u001b[0m\u001b[0mcancel_join_thread\u001b[0m\u001b[0;34m(\u001b[0m\u001b[0;34m)\u001b[0m\u001b[0;34m\u001b[0m\u001b[0;34m\u001b[0m\u001b[0m\n",
            "\u001b[0;32m/usr/lib/python3.7/multiprocessing/process.py\u001b[0m in \u001b[0;36mjoin\u001b[0;34m(self, timeout)\u001b[0m\n\u001b[1;32m    138\u001b[0m         \u001b[0;32massert\u001b[0m \u001b[0mself\u001b[0m\u001b[0;34m.\u001b[0m\u001b[0m_parent_pid\u001b[0m \u001b[0;34m==\u001b[0m \u001b[0mos\u001b[0m\u001b[0;34m.\u001b[0m\u001b[0mgetpid\u001b[0m\u001b[0;34m(\u001b[0m\u001b[0;34m)\u001b[0m\u001b[0;34m,\u001b[0m \u001b[0;34m'can only join a child process'\u001b[0m\u001b[0;34m\u001b[0m\u001b[0;34m\u001b[0m\u001b[0m\n\u001b[1;32m    139\u001b[0m         \u001b[0;32massert\u001b[0m \u001b[0mself\u001b[0m\u001b[0;34m.\u001b[0m\u001b[0m_popen\u001b[0m \u001b[0;32mis\u001b[0m \u001b[0;32mnot\u001b[0m \u001b[0;32mNone\u001b[0m\u001b[0;34m,\u001b[0m \u001b[0;34m'can only join a started process'\u001b[0m\u001b[0;34m\u001b[0m\u001b[0;34m\u001b[0m\u001b[0m\n\u001b[0;32m--> 140\u001b[0;31m         \u001b[0mres\u001b[0m \u001b[0;34m=\u001b[0m \u001b[0mself\u001b[0m\u001b[0;34m.\u001b[0m\u001b[0m_popen\u001b[0m\u001b[0;34m.\u001b[0m\u001b[0mwait\u001b[0m\u001b[0;34m(\u001b[0m\u001b[0mtimeout\u001b[0m\u001b[0;34m)\u001b[0m\u001b[0;34m\u001b[0m\u001b[0;34m\u001b[0m\u001b[0m\n\u001b[0m\u001b[1;32m    141\u001b[0m         \u001b[0;32mif\u001b[0m \u001b[0mres\u001b[0m \u001b[0;32mis\u001b[0m \u001b[0;32mnot\u001b[0m \u001b[0;32mNone\u001b[0m\u001b[0;34m:\u001b[0m\u001b[0;34m\u001b[0m\u001b[0;34m\u001b[0m\u001b[0m\n\u001b[1;32m    142\u001b[0m             \u001b[0m_children\u001b[0m\u001b[0;34m.\u001b[0m\u001b[0mdiscard\u001b[0m\u001b[0;34m(\u001b[0m\u001b[0mself\u001b[0m\u001b[0;34m)\u001b[0m\u001b[0;34m\u001b[0m\u001b[0;34m\u001b[0m\u001b[0m\n",
            "\u001b[0;32m/usr/lib/python3.7/multiprocessing/popen_fork.py\u001b[0m in \u001b[0;36mwait\u001b[0;34m(self, timeout)\u001b[0m\n\u001b[1;32m     43\u001b[0m             \u001b[0;32mif\u001b[0m \u001b[0mtimeout\u001b[0m \u001b[0;32mis\u001b[0m \u001b[0;32mnot\u001b[0m \u001b[0;32mNone\u001b[0m\u001b[0;34m:\u001b[0m\u001b[0;34m\u001b[0m\u001b[0;34m\u001b[0m\u001b[0m\n\u001b[1;32m     44\u001b[0m                 \u001b[0;32mfrom\u001b[0m \u001b[0mmultiprocessing\u001b[0m\u001b[0;34m.\u001b[0m\u001b[0mconnection\u001b[0m \u001b[0;32mimport\u001b[0m \u001b[0mwait\u001b[0m\u001b[0;34m\u001b[0m\u001b[0;34m\u001b[0m\u001b[0m\n\u001b[0;32m---> 45\u001b[0;31m                 \u001b[0;32mif\u001b[0m \u001b[0;32mnot\u001b[0m \u001b[0mwait\u001b[0m\u001b[0;34m(\u001b[0m\u001b[0;34m[\u001b[0m\u001b[0mself\u001b[0m\u001b[0;34m.\u001b[0m\u001b[0msentinel\u001b[0m\u001b[0;34m]\u001b[0m\u001b[0;34m,\u001b[0m \u001b[0mtimeout\u001b[0m\u001b[0;34m)\u001b[0m\u001b[0;34m:\u001b[0m\u001b[0;34m\u001b[0m\u001b[0;34m\u001b[0m\u001b[0m\n\u001b[0m\u001b[1;32m     46\u001b[0m                     \u001b[0;32mreturn\u001b[0m \u001b[0;32mNone\u001b[0m\u001b[0;34m\u001b[0m\u001b[0;34m\u001b[0m\u001b[0m\n\u001b[1;32m     47\u001b[0m             \u001b[0;31m# This shouldn't block if wait() returned successfully.\u001b[0m\u001b[0;34m\u001b[0m\u001b[0;34m\u001b[0m\u001b[0;34m\u001b[0m\u001b[0m\n",
            "\u001b[0;32m/usr/lib/python3.7/multiprocessing/connection.py\u001b[0m in \u001b[0;36mwait\u001b[0;34m(object_list, timeout)\u001b[0m\n\u001b[1;32m    919\u001b[0m \u001b[0;34m\u001b[0m\u001b[0m\n\u001b[1;32m    920\u001b[0m             \u001b[0;32mwhile\u001b[0m \u001b[0;32mTrue\u001b[0m\u001b[0;34m:\u001b[0m\u001b[0;34m\u001b[0m\u001b[0;34m\u001b[0m\u001b[0m\n\u001b[0;32m--> 921\u001b[0;31m                 \u001b[0mready\u001b[0m \u001b[0;34m=\u001b[0m \u001b[0mselector\u001b[0m\u001b[0;34m.\u001b[0m\u001b[0mselect\u001b[0m\u001b[0;34m(\u001b[0m\u001b[0mtimeout\u001b[0m\u001b[0;34m)\u001b[0m\u001b[0;34m\u001b[0m\u001b[0;34m\u001b[0m\u001b[0m\n\u001b[0m\u001b[1;32m    922\u001b[0m                 \u001b[0;32mif\u001b[0m \u001b[0mready\u001b[0m\u001b[0;34m:\u001b[0m\u001b[0;34m\u001b[0m\u001b[0;34m\u001b[0m\u001b[0m\n\u001b[1;32m    923\u001b[0m                     \u001b[0;32mreturn\u001b[0m \u001b[0;34m[\u001b[0m\u001b[0mkey\u001b[0m\u001b[0;34m.\u001b[0m\u001b[0mfileobj\u001b[0m \u001b[0;32mfor\u001b[0m \u001b[0;34m(\u001b[0m\u001b[0mkey\u001b[0m\u001b[0;34m,\u001b[0m \u001b[0mevents\u001b[0m\u001b[0;34m)\u001b[0m \u001b[0;32min\u001b[0m \u001b[0mready\u001b[0m\u001b[0;34m]\u001b[0m\u001b[0;34m\u001b[0m\u001b[0;34m\u001b[0m\u001b[0m\n",
            "\u001b[0;32m/usr/lib/python3.7/selectors.py\u001b[0m in \u001b[0;36mselect\u001b[0;34m(self, timeout)\u001b[0m\n\u001b[1;32m    413\u001b[0m         \u001b[0mready\u001b[0m \u001b[0;34m=\u001b[0m \u001b[0;34m[\u001b[0m\u001b[0;34m]\u001b[0m\u001b[0;34m\u001b[0m\u001b[0;34m\u001b[0m\u001b[0m\n\u001b[1;32m    414\u001b[0m         \u001b[0;32mtry\u001b[0m\u001b[0;34m:\u001b[0m\u001b[0;34m\u001b[0m\u001b[0;34m\u001b[0m\u001b[0m\n\u001b[0;32m--> 415\u001b[0;31m             \u001b[0mfd_event_list\u001b[0m \u001b[0;34m=\u001b[0m \u001b[0mself\u001b[0m\u001b[0;34m.\u001b[0m\u001b[0m_selector\u001b[0m\u001b[0;34m.\u001b[0m\u001b[0mpoll\u001b[0m\u001b[0;34m(\u001b[0m\u001b[0mtimeout\u001b[0m\u001b[0;34m)\u001b[0m\u001b[0;34m\u001b[0m\u001b[0;34m\u001b[0m\u001b[0m\n\u001b[0m\u001b[1;32m    416\u001b[0m         \u001b[0;32mexcept\u001b[0m \u001b[0mInterruptedError\u001b[0m\u001b[0;34m:\u001b[0m\u001b[0;34m\u001b[0m\u001b[0;34m\u001b[0m\u001b[0m\n\u001b[1;32m    417\u001b[0m             \u001b[0;32mreturn\u001b[0m \u001b[0mready\u001b[0m\u001b[0;34m\u001b[0m\u001b[0;34m\u001b[0m\u001b[0m\n",
            "\u001b[0;31mKeyboardInterrupt\u001b[0m: "
          ]
        }
      ]
    },
    {
      "cell_type": "markdown",
      "source": [
        "Make a note of the accuracy that this model got when only training using our small ant and bee dataset. Next, we are going to take the pre-trained model, and only re-train the final prediction step."
      ],
      "metadata": {
        "id": "ODkl7TOUzsOy"
      }
    },
    {
      "cell_type": "markdown",
      "source": [
        "**YOUR TURN**:\n",
        "\n",
        "- Freeze the weights of the pretrained ResNet18: By default, PyTorch expects to train the entire model. To determine whether a parameter can be tuned or not we can check their `required_grad` attribute - i.e, whether we are modifying it during gradient descent. If we set this to `False`, `PyTorch` will not optimize these weights on the `.backward()` call, and keep it the same as when we downloaded it.\n",
        "\n",
        "Hint: `print(param.requires_grad)`"
      ],
      "metadata": {
        "id": "pYXGE5ZhwPuD"
      }
    },
    {
      "cell_type": "code",
      "source": [
        "#Load ResNet18 but keep the pre-trained weights this time:\n",
        "model_conv = ## YOUR CODE HERE\n",
        "\n",
        "# Access all the parameters of the model\n",
        "for param in model_conv.parameters():\n",
        "    ## YOUR CODE HERE"
      ],
      "metadata": {
        "id": "uKh-NiFvxag6"
      },
      "execution_count": 40,
      "outputs": []
    },
    {
      "cell_type": "code",
      "source": [
        "#We are now only changing the parameters in the fully connected layers at the end\n",
        "num_ftrs = model_conv.fc.in_features #Number of features in the fully connected layers\n",
        "model_conv.fc = nn.Linear(num_ftrs, 2) #Overwrite the existing weights at the end with a blank, randomly initialized set\n",
        "\n",
        "model_conv = model_conv.to(device) #Copy the model to our GPU\n",
        "\n",
        "criterion = nn.CrossEntropyLoss()\n",
        "\n",
        "# Observe that only parameters of final layer (model_conv.fc) are being optimized as\n",
        "# opposed to before.\n",
        "optimizer_conv = optim.SGD(model_conv.fc.parameters(), lr=0.001)\n",
        "\n",
        "# Decay learning rate by a factor of 0.1 every 7 epochs\n",
        "exp_lr_scheduler = lr_scheduler.StepLR(optimizer_conv, step_size=7, gamma=0.1)\n",
        "\n",
        "model_conv = train_model(model_conv, criterion, optimizer_conv,\n",
        "                         exp_lr_scheduler, num_epochs=10)"
      ],
      "metadata": {
        "colab": {
          "base_uri": "https://localhost:8080/"
        },
        "id": "CJ5ZZV9XyRg4",
        "outputId": "af9f9fad-9006-47e9-aa59-ba57f1e433bb"
      },
      "execution_count": 42,
      "outputs": [
        {
          "output_type": "stream",
          "name": "stdout",
          "text": [
            "Epoch 0/9\n",
            "----------\n",
            "train Loss: 0.6571 Acc: 0.6189\n",
            "val Loss: 0.5490 Acc: 0.7190\n",
            "\n",
            "Epoch 1/9\n",
            "----------\n",
            "train Loss: 0.5765 Acc: 0.7131\n",
            "val Loss: 0.4666 Acc: 0.7778\n",
            "\n",
            "Epoch 2/9\n",
            "----------\n",
            "train Loss: 0.5485 Acc: 0.7377\n",
            "val Loss: 0.3752 Acc: 0.8824\n",
            "\n",
            "Epoch 3/9\n",
            "----------\n",
            "train Loss: 0.5037 Acc: 0.7664\n",
            "val Loss: 0.3303 Acc: 0.8954\n",
            "\n",
            "Epoch 4/9\n",
            "----------\n",
            "train Loss: 0.4452 Acc: 0.8197\n",
            "val Loss: 0.3172 Acc: 0.8954\n",
            "\n",
            "Epoch 5/9\n",
            "----------\n",
            "train Loss: 0.4408 Acc: 0.7828\n",
            "val Loss: 0.2732 Acc: 0.9150\n",
            "\n",
            "Epoch 6/9\n",
            "----------\n",
            "train Loss: 0.4314 Acc: 0.8361\n",
            "val Loss: 0.2646 Acc: 0.9346\n",
            "\n",
            "Epoch 7/9\n",
            "----------\n",
            "train Loss: 0.4491 Acc: 0.7828\n",
            "val Loss: 0.2607 Acc: 0.9346\n",
            "\n",
            "Epoch 8/9\n",
            "----------\n",
            "train Loss: 0.4374 Acc: 0.7992\n",
            "val Loss: 0.2577 Acc: 0.9346\n",
            "\n",
            "Epoch 9/9\n",
            "----------\n",
            "train Loss: 0.4327 Acc: 0.8238\n",
            "val Loss: 0.2573 Acc: 0.9281\n",
            "\n",
            "Training complete in 0m 33s\n",
            "Best val Acc: 0.934641\n"
          ]
        }
      ]
    },
    {
      "cell_type": "markdown",
      "source": [
        "How did we do? Compare the validation accuracy even in the first few epochs to the final validation accuracy when we were training the entire model from scratch."
      ],
      "metadata": {
        "id": "l8cxF7408yrP"
      }
    },
    {
      "cell_type": "markdown",
      "source": [
        "### Finetuning the ResNet18\n",
        "\n",
        "This time, we are going to start with the pre-trained weights for the entire model, but during training we won't restrict what weights PyTorch can update.\n",
        "\n",
        "Unlike before where we set some of the parameters to `requires_grad=False`, here we will do the opposite.\n",
        "\n",
        "**YOUR TURN**:\n",
        "\n",
        "- Finetune ResNet18: Modify the code below to make ResNet18 finetunable"
      ],
      "metadata": {
        "id": "JP3BbpDg0keT"
      }
    },
    {
      "cell_type": "code",
      "source": [
        "model_conv = ##YOUR CODE HERE\n",
        "\n",
        "# Access all the parameters of the model\n",
        "for param in model_conv.parameters():\n",
        "    ## YOUR CODE HERE\n",
        "\n",
        "# Parameters of newly constructed modules have requires_grad=True by default\n",
        "num_ftrs = model_conv.fc.in_features\n",
        "model_conv.fc = nn.Linear(num_ftrs, 2)\n",
        "\n",
        "model_conv = model_conv.to(device)\n",
        "\n",
        "criterion = nn.CrossEntropyLoss()\n",
        "\n",
        "# Observe that only parameters of final layer are being optimized as\n",
        "# opposed to before.\n",
        "optimizer_conv = optim.SGD(model_conv.fc.parameters(), lr=0.001)\n",
        "\n",
        "# Decay LR by a factor of 0.1 every 7 epochs\n",
        "exp_lr_scheduler = lr_scheduler.StepLR(optimizer_conv, step_size=7, gamma=0.1)\n",
        "\n",
        "model_conv = train_model(model_conv, criterion, optimizer_conv,\n",
        "                         exp_lr_scheduler, num_epochs=10)"
      ],
      "metadata": {
        "id": "bcFL3vkq1KTP",
        "colab": {
          "base_uri": "https://localhost:8080/"
        },
        "outputId": "b3f80aaa-2430-40fb-be5b-e16f5c32ef6b"
      },
      "execution_count": 44,
      "outputs": [
        {
          "output_type": "stream",
          "name": "stdout",
          "text": [
            "Epoch 0/9\n",
            "----------\n",
            "train Loss: 0.6450 Acc: 0.6189\n",
            "val Loss: 0.5665 Acc: 0.7255\n",
            "\n",
            "Epoch 1/9\n",
            "----------\n",
            "train Loss: 0.5865 Acc: 0.7049\n",
            "val Loss: 0.4506 Acc: 0.7908\n",
            "\n",
            "Epoch 2/9\n",
            "----------\n",
            "train Loss: 0.5059 Acc: 0.7664\n",
            "val Loss: 0.3910 Acc: 0.8627\n",
            "\n",
            "Epoch 3/9\n",
            "----------\n",
            "train Loss: 0.5070 Acc: 0.7377\n",
            "val Loss: 0.3412 Acc: 0.9085\n",
            "\n",
            "Epoch 4/9\n",
            "----------\n",
            "train Loss: 0.5026 Acc: 0.7336\n",
            "val Loss: 0.3388 Acc: 0.8693\n",
            "\n",
            "Epoch 5/9\n",
            "----------\n",
            "train Loss: 0.4263 Acc: 0.8115\n",
            "val Loss: 0.2909 Acc: 0.9150\n",
            "\n",
            "Epoch 6/9\n",
            "----------\n",
            "train Loss: 0.4611 Acc: 0.7746\n",
            "val Loss: 0.2726 Acc: 0.9085\n",
            "\n",
            "Epoch 7/9\n",
            "----------\n",
            "train Loss: 0.4320 Acc: 0.8156\n",
            "val Loss: 0.2737 Acc: 0.9150\n",
            "\n",
            "Epoch 8/9\n",
            "----------\n",
            "train Loss: 0.4353 Acc: 0.8033\n",
            "val Loss: 0.2695 Acc: 0.9150\n",
            "\n",
            "Epoch 9/9\n",
            "----------\n",
            "train Loss: 0.4335 Acc: 0.7910\n",
            "val Loss: 0.2650 Acc: 0.9216\n",
            "\n",
            "Training complete in 0m 35s\n",
            "Best val Acc: 0.921569\n"
          ]
        }
      ]
    },
    {
      "cell_type": "markdown",
      "source": [
        "**YOUR TURN**\n",
        "\n",
        "Compare the three ways we trained the same model. Which performed best, out of our two approaches to transfer learning? Can you estimate why?\n",
        "\n",
        "If you have time, try playing around with some of the hyper-parameters of the model, and see if you can improve performance further. Here are some directions to look in:\n",
        "\n",
        "1. How many epochs should we train for?\n",
        "2. How fast or slow should the learning rate be at the start? Should we change how quickly it reduces in the scheduler?\n",
        "3. Our optimizer is stochastic gradient descent, but there are [more options](https://pytorch.org/docs/stable/optim.html) out there - try out some others."
      ],
      "metadata": {
        "id": "f7kjVjlJgHcn"
      }
    }
  ],
  "metadata": {
    "kernelspec": {
      "display_name": "Python 3",
      "language": "python",
      "name": "python3"
    },
    "language_info": {
      "codemirror_mode": {
        "name": "ipython",
        "version": 3
      },
      "file_extension": ".py",
      "mimetype": "text/x-python",
      "name": "python",
      "nbconvert_exporter": "python",
      "pygments_lexer": "ipython3",
      "version": "3.5.2"
    },
    "colab": {
      "name": "lab_4_1_convnets.ipynb",
      "provenance": [],
      "collapsed_sections": [],
      "include_colab_link": true
    },
    "gpuClass": "standard",
    "accelerator": "GPU"
  },
  "nbformat": 4,
  "nbformat_minor": 0
}