{
 "cells": [
  {
   "cell_type": "markdown",
   "id": "7cd02a36-ac53-4ec9-a27e-828f98253e2f",
   "metadata": {},
   "source": [
    "[![Open In Colab](https://colab.research.google.com/assets/colab-badge.svg)](https://colab.research.google.com/github/lyeskhalil/mlbootcamp2022/blob/main/AgeDataset.ipynb)"
   ]
  },
  {
   "cell_type": "code",
   "execution_count": null,
   "id": "f64bbadc-e55b-4ce8-a255-cbecaf6a593f",
   "metadata": {},
   "outputs": [],
   "source": [
    "import pandas as pd\n",
    "from sklearn.tree import DecisionTreeRegressor\n",
    "from sklearn.ensemble import ExtraTreesRegressor\n",
    "from sklearn.model_selection import train_test_split"
   ]
  },
  {
   "cell_type": "markdown",
   "id": "4d2dcc05-9b52-4d66-895f-da89d1cc60b8",
   "metadata": {},
   "source": [
    "First, let's load the dataset and take a look at what it contains in raw form:"
   ]
  },
  {
   "cell_type": "code",
   "execution_count": null,
   "id": "c6c95a3a-2b72-4de5-afe4-b47af9c2fd49",
   "metadata": {},
   "outputs": [],
   "source": [
    "from pathlib import Path\n",
    "from os import system\n",
    "if not Path('AgeDataset-V1.csv.zip').exists():\n",
    "    system('wget --no-check-certificate --content-disposition https://github.com/lyeskhalil/mlbootcamp2022/raw/main/AgeDataset-V1.csv.zip')\n",
    "           \n",
    "if not Path('AgeDataset-V1.csv').exists():\n",
    "    system('unzip AgeDataset-V1.csv.zip')"
   ]
  },
  {
   "cell_type": "code",
   "execution_count": null,
   "id": "497091eb-0700-4962-a886-f0a08f920f2c",
   "metadata": {},
   "outputs": [],
   "source": [
    "df = pd.read_csv('AgeDataset-V1.csv')"
   ]
  },
  {
   "cell_type": "code",
   "execution_count": null,
   "id": "bdf416d1-1519-43b4-86e3-3856fe6271eb",
   "metadata": {},
   "outputs": [],
   "source": [
    "df.head()"
   ]
  },
  {
   "cell_type": "markdown",
   "id": "82f61e82-105d-4aa3-91b2-5d6a1e437665",
   "metadata": {},
   "source": [
    "Our task is going to be to predict how long these people lived, based on the other features provided - occupation, birth year, country, manner of death, etc."
   ]
  },
  {
   "cell_type": "markdown",
   "id": "cb5e5d75-4ec8-4a81-9934-5d8ba257d88e",
   "metadata": {},
   "source": [
    "Some rows have empty entries (represented by NaN or \"Not a Number\"). These are going to be less useful, since they are missing data. I am going to drop them, but you can try imputing missing values to see if it improves performance."
   ]
  },
  {
   "cell_type": "code",
   "execution_count": null,
   "id": "076aa672-f8c8-4a14-b30c-8c2ceaf8e011",
   "metadata": {},
   "outputs": [],
   "source": [
    "df = df.dropna()"
   ]
  },
  {
   "cell_type": "markdown",
   "id": "50b9ff7f-90e0-423b-ad9f-916500b1f147",
   "metadata": {},
   "source": [
    "Don't change this next part- we are splitting the data into X and y variables, and splitting into training and testing sets which everyone will use."
   ]
  },
  {
   "cell_type": "code",
   "execution_count": null,
   "id": "ba977661-b0c3-431b-b237-9468107614dc",
   "metadata": {},
   "outputs": [],
   "source": [
    "X = df[['Name','Short description','Gender','Country','Occupation','Birth year','Manner of death']]\n",
    "y = df['Age of death']\n",
    "\n",
    "X_train, X_test, y_train, y_test = train_test_split(X,y,train_size=0.9,random_state=0)"
   ]
  },
  {
   "cell_type": "markdown",
   "id": "4e035033-6efa-47d2-bea4-2aaf0ce41fd4",
   "metadata": {},
   "source": [
    "Some of the variables here are categorical, so an easy way to get started is to transform them into one-hot vectors. Luckily, Pandas provides a convenience function to do this for us:"
   ]
  },
  {
   "cell_type": "code",
   "execution_count": null,
   "id": "002d7623-2aa6-42af-ab90-2a523570c99e",
   "metadata": {},
   "outputs": [],
   "source": [
    "X_dummies = pd.get_dummies(data=X[['Gender','Country','Occupation','Manner of death']])"
   ]
  },
  {
   "cell_type": "markdown",
   "id": "398e6736-e229-4ec0-8a60-2188ffb8ea99",
   "metadata": {},
   "source": [
    "And now that we have those one-hot vectors for all entries, we can transform the training and test data to use them instead:"
   ]
  },
  {
   "cell_type": "code",
   "execution_count": null,
   "id": "95c58606-c0fa-4dcf-96d3-98da68e65532",
   "metadata": {},
   "outputs": [],
   "source": [
    "X_train_dummies = X_dummies.loc[X_train.index] #Get the one-hot vectors corresponding to indices that are in the training set\n",
    "X_train_concat = pd.concat([X_train['Birth year'], X_train_dummies],axis=1) #Join the one-hot vectors with the other features\n",
    "\n",
    "X_test_dummies = X_dummies.loc[X_test.index]\n",
    "X_test_concat = pd.concat([X_test['Birth year'], X_test_dummies],axis=1)\n",
    "\n",
    "X_train_concat.head()"
   ]
  },
  {
   "cell_type": "markdown",
   "id": "382695d5-1fac-4289-9174-accb01a2a12b",
   "metadata": {},
   "source": [
    "Without doing anything else that might be useful (do you think we might have too many manners of death that only occured to a single person?) let's try training a couple of models and see what we get:"
   ]
  },
  {
   "cell_type": "code",
   "execution_count": null,
   "id": "a4d81ca3-02b4-493c-989f-d03de506e934",
   "metadata": {},
   "outputs": [],
   "source": [
    "tree = DecisionTreeRegressor().fit(X_train_concat,y_train)\n",
    "tree.score(X_test_concat,y_test)"
   ]
  },
  {
   "cell_type": "code",
   "execution_count": null,
   "id": "9f8a18e1-3e73-4a99-945b-6c52e1ee4b2f",
   "metadata": {},
   "outputs": [],
   "source": [
    "et = ExtraTreesRegressor(n_jobs=-1).fit(X_train_concat,y_train) #the n_jobs=-1 parameter tells Scikit-Learn to use all cores of your processor\n",
    "et.score(X_test_concat,y_test)"
   ]
  },
  {
   "cell_type": "markdown",
   "id": "91f96e22-c292-4452-9d66-a70de3086b67",
   "metadata": {},
   "source": [
    "You can surely do better! If you're looking for places to start, here are some suggestions:\n",
    "\n",
    "1. Try imputing some of the missing values in the data rather than just discarding those rows.\n",
    "2. I only tried to do regression with two kinds of tree model. There are a vast number of options in Scikit-Learn, not to mention using a neural network.\n",
    "3. The country feature contains a list of multiple countries for some people - in the code above this gets encoded into its own feature, rather than setting the values of multiple countries to 1!\n",
    "4. There are a ton of manners of death which are only listed for one or two people - is it better to just replace these with \"other\"?\n",
    "5. We have a lot of rich text which we could take advantage of - how could we do that?\n"
   ]
  },
  {
   "cell_type": "code",
   "execution_count": null,
   "id": "7203dd54-767a-4d62-918f-434689131b55",
   "metadata": {},
   "outputs": [],
   "source": []
  }
 ],
 "metadata": {
  "kernelspec": {
   "display_name": "Python 3 (ipykernel)",
   "language": "python",
   "name": "python3"
  },
  "language_info": {
   "codemirror_mode": {
    "name": "ipython",
    "version": 3
   },
   "file_extension": ".py",
   "mimetype": "text/x-python",
   "name": "python",
   "nbconvert_exporter": "python",
   "pygments_lexer": "ipython3",
   "version": "3.9.13"
  }
 },
 "nbformat": 4,
 "nbformat_minor": 5
}
