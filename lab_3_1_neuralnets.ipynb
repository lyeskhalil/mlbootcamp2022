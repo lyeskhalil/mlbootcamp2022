{
  "cells": [
    {
      "cell_type": "markdown",
      "metadata": {
        "id": "vk0LoqhRIhuT"
      },
      "source": [
        "[![Open In Colab](https://colab.research.google.com/assets/colab-badge.svg)](https://colab.research.google.com/github/lyeskhalil/mlbootcamp2022/blob/main/lab_3_1_neuralnets.ipynb)\n",
        "\n",
        "# UofT FASE ML Bootcamp\n",
        "#### Wednesday June 15, 2022\n",
        "#### Intro to Neural Networks in PyTorch - Lab 1, Day 3 \n",
        "#### Teaching team: Elias Khalil, Alex Olson, Rahul Patel, and Jake Mosseri\n",
        "##### Lab author: Kyle E. C. Booth, kbooth@mie.utoronto.ca, edited by Jake Mosseri"
      ]
    },
    {
      "cell_type": "markdown",
      "metadata": {
        "id": "IWWYgttBIhuX"
      },
      "source": [
        "In this lab, we will be taking our first look at developing our own *neural networks* (NN) with [PyTorch](https://pytorch.org/), probably the most popular machine learning library for working with NNs. "
      ]
    },
    {
      "cell_type": "code",
      "execution_count": 2,
      "metadata": {
        "id": "LWQyyScGIhuY",
        "outputId": "06b1bc8f-90ca-41a7-a06b-7eed700a9619",
        "colab": {
          "base_uri": "https://localhost:8080/"
        }
      },
      "outputs": [
        {
          "output_type": "stream",
          "name": "stdout",
          "text": [
            "Looking in indexes: https://pypi.org/simple, https://us-python.pkg.dev/colab-wheels/public/simple/\n",
            "Requirement already satisfied: torch in /usr/local/lib/python3.7/dist-packages (1.11.0+cu113)\n",
            "Requirement already satisfied: torchvision in /usr/local/lib/python3.7/dist-packages (0.12.0+cu113)\n",
            "Requirement already satisfied: torchaudio in /usr/local/lib/python3.7/dist-packages (0.11.0+cu113)\n",
            "Requirement already satisfied: typing-extensions in /usr/local/lib/python3.7/dist-packages (from torch) (4.2.0)\n",
            "Requirement already satisfied: numpy in /usr/local/lib/python3.7/dist-packages (from torchvision) (1.21.6)\n",
            "Requirement already satisfied: requests in /usr/local/lib/python3.7/dist-packages (from torchvision) (2.23.0)\n",
            "Requirement already satisfied: pillow!=8.3.*,>=5.3.0 in /usr/local/lib/python3.7/dist-packages (from torchvision) (7.1.2)\n",
            "Requirement already satisfied: certifi>=2017.4.17 in /usr/local/lib/python3.7/dist-packages (from requests->torchvision) (2022.5.18.1)\n",
            "Requirement already satisfied: idna<3,>=2.5 in /usr/local/lib/python3.7/dist-packages (from requests->torchvision) (2.10)\n",
            "Requirement already satisfied: chardet<4,>=3.0.2 in /usr/local/lib/python3.7/dist-packages (from requests->torchvision) (3.0.4)\n",
            "Requirement already satisfied: urllib3!=1.25.0,!=1.25.1,<1.26,>=1.21.1 in /usr/local/lib/python3.7/dist-packages (from requests->torchvision) (1.24.3)\n",
            "Looking in indexes: https://pypi.org/simple, https://us-python.pkg.dev/colab-wheels/public/simple/\n",
            "Requirement already satisfied: numpy in /usr/local/lib/python3.7/dist-packages (1.21.6)\n",
            "Looking in indexes: https://pypi.org/simple, https://us-python.pkg.dev/colab-wheels/public/simple/\n",
            "Requirement already satisfied: pandas in /usr/local/lib/python3.7/dist-packages (1.3.5)\n",
            "Requirement already satisfied: pytz>=2017.3 in /usr/local/lib/python3.7/dist-packages (from pandas) (2022.1)\n",
            "Requirement already satisfied: numpy>=1.17.3 in /usr/local/lib/python3.7/dist-packages (from pandas) (1.21.6)\n",
            "Requirement already satisfied: python-dateutil>=2.7.3 in /usr/local/lib/python3.7/dist-packages (from pandas) (2.8.2)\n",
            "Requirement already satisfied: six>=1.5 in /usr/local/lib/python3.7/dist-packages (from python-dateutil>=2.7.3->pandas) (1.15.0)\n",
            "Looking in indexes: https://pypi.org/simple, https://us-python.pkg.dev/colab-wheels/public/simple/\n",
            "Requirement already satisfied: matplotlib in /usr/local/lib/python3.7/dist-packages (3.2.2)\n",
            "Requirement already satisfied: pyparsing!=2.0.4,!=2.1.2,!=2.1.6,>=2.0.1 in /usr/local/lib/python3.7/dist-packages (from matplotlib) (3.0.9)\n",
            "Requirement already satisfied: cycler>=0.10 in /usr/local/lib/python3.7/dist-packages (from matplotlib) (0.11.0)\n",
            "Requirement already satisfied: kiwisolver>=1.0.1 in /usr/local/lib/python3.7/dist-packages (from matplotlib) (1.4.2)\n",
            "Requirement already satisfied: python-dateutil>=2.1 in /usr/local/lib/python3.7/dist-packages (from matplotlib) (2.8.2)\n",
            "Requirement already satisfied: numpy>=1.11 in /usr/local/lib/python3.7/dist-packages (from matplotlib) (1.21.6)\n",
            "Requirement already satisfied: typing-extensions in /usr/local/lib/python3.7/dist-packages (from kiwisolver>=1.0.1->matplotlib) (4.2.0)\n",
            "Requirement already satisfied: six>=1.5 in /usr/local/lib/python3.7/dist-packages (from python-dateutil>=2.1->matplotlib) (1.15.0)\n",
            "Looking in indexes: https://pypi.org/simple, https://us-python.pkg.dev/colab-wheels/public/simple/\n",
            "Requirement already satisfied: scikit-learn in /usr/local/lib/python3.7/dist-packages (1.0.2)\n",
            "Requirement already satisfied: joblib>=0.11 in /usr/local/lib/python3.7/dist-packages (from scikit-learn) (1.1.0)\n",
            "Requirement already satisfied: scipy>=1.1.0 in /usr/local/lib/python3.7/dist-packages (from scikit-learn) (1.4.1)\n",
            "Requirement already satisfied: threadpoolctl>=2.0.0 in /usr/local/lib/python3.7/dist-packages (from scikit-learn) (3.1.0)\n",
            "Requirement already satisfied: numpy>=1.14.6 in /usr/local/lib/python3.7/dist-packages (from scikit-learn) (1.21.6)\n"
          ]
        }
      ],
      "source": [
        "!pip3 install torch torchvision torchaudio\n",
        "!pip install numpy\n",
        "!pip install pandas\n",
        "!pip install matplotlib\n",
        "!pip install scikit-learn\n",
        "\n",
        "import numpy as np\n",
        "import pandas as pd\n",
        "import matplotlib.pyplot as plt\n",
        "from time import time"
      ]
    },
    {
      "cell_type": "markdown",
      "metadata": {
        "id": "6Cj0g_bBIhuZ"
      },
      "source": [
        "### An Intuitive Intro to Neural Nets\n",
        "\n",
        "In today's lab, we're going to start with an intuitive exercise on the Titanic dataset using Logistic Regression and a simple Neural Network before moving onto some more complex stuff. Let's start by loading our dataset. \n",
        "\n",
        "Remember, the Titanic data is stored in a CSV file (located in the 'data' directory of your root folder), so we need to use Pandas to load the data and then separate it into our X (features) and y (target). We also need to: i) drop unimportant columns, and ii) impute missing values.\n",
        "\n",
        "We're going to do this all in the next cell - refer to the decision tree lab from yesterday for the detailed steps."
      ]
    },
    {
      "cell_type": "code",
      "execution_count": 3,
      "metadata": {
        "id": "YYb9noojIhua",
        "outputId": "4c4996de-9215-4fa1-e66a-27cca4bed23d",
        "colab": {
          "base_uri": "https://localhost:8080/",
          "height": 206
        }
      },
      "outputs": [
        {
          "output_type": "execute_result",
          "data": {
            "text/plain": [
              "   pclass  survived  sex      age  sibsp  parch      fare\n",
              "0     1.0         1    0  29.0000    0.0    0.0  211.3375\n",
              "1     1.0         1    1   0.9167    1.0    2.0  151.5500\n",
              "2     1.0         0    0   2.0000    1.0    2.0  151.5500\n",
              "3     1.0         0    1  30.0000    1.0    2.0  151.5500\n",
              "4     1.0         0    0  25.0000    1.0    2.0  151.5500"
            ],
            "text/html": [
              "\n",
              "  <div id=\"df-b3d5ff3f-cc60-4505-85ec-081233c8e770\">\n",
              "    <div class=\"colab-df-container\">\n",
              "      <div>\n",
              "<style scoped>\n",
              "    .dataframe tbody tr th:only-of-type {\n",
              "        vertical-align: middle;\n",
              "    }\n",
              "\n",
              "    .dataframe tbody tr th {\n",
              "        vertical-align: top;\n",
              "    }\n",
              "\n",
              "    .dataframe thead th {\n",
              "        text-align: right;\n",
              "    }\n",
              "</style>\n",
              "<table border=\"1\" class=\"dataframe\">\n",
              "  <thead>\n",
              "    <tr style=\"text-align: right;\">\n",
              "      <th></th>\n",
              "      <th>pclass</th>\n",
              "      <th>survived</th>\n",
              "      <th>sex</th>\n",
              "      <th>age</th>\n",
              "      <th>sibsp</th>\n",
              "      <th>parch</th>\n",
              "      <th>fare</th>\n",
              "    </tr>\n",
              "  </thead>\n",
              "  <tbody>\n",
              "    <tr>\n",
              "      <th>0</th>\n",
              "      <td>1.0</td>\n",
              "      <td>1</td>\n",
              "      <td>0</td>\n",
              "      <td>29.0000</td>\n",
              "      <td>0.0</td>\n",
              "      <td>0.0</td>\n",
              "      <td>211.3375</td>\n",
              "    </tr>\n",
              "    <tr>\n",
              "      <th>1</th>\n",
              "      <td>1.0</td>\n",
              "      <td>1</td>\n",
              "      <td>1</td>\n",
              "      <td>0.9167</td>\n",
              "      <td>1.0</td>\n",
              "      <td>2.0</td>\n",
              "      <td>151.5500</td>\n",
              "    </tr>\n",
              "    <tr>\n",
              "      <th>2</th>\n",
              "      <td>1.0</td>\n",
              "      <td>0</td>\n",
              "      <td>0</td>\n",
              "      <td>2.0000</td>\n",
              "      <td>1.0</td>\n",
              "      <td>2.0</td>\n",
              "      <td>151.5500</td>\n",
              "    </tr>\n",
              "    <tr>\n",
              "      <th>3</th>\n",
              "      <td>1.0</td>\n",
              "      <td>0</td>\n",
              "      <td>1</td>\n",
              "      <td>30.0000</td>\n",
              "      <td>1.0</td>\n",
              "      <td>2.0</td>\n",
              "      <td>151.5500</td>\n",
              "    </tr>\n",
              "    <tr>\n",
              "      <th>4</th>\n",
              "      <td>1.0</td>\n",
              "      <td>0</td>\n",
              "      <td>0</td>\n",
              "      <td>25.0000</td>\n",
              "      <td>1.0</td>\n",
              "      <td>2.0</td>\n",
              "      <td>151.5500</td>\n",
              "    </tr>\n",
              "  </tbody>\n",
              "</table>\n",
              "</div>\n",
              "      <button class=\"colab-df-convert\" onclick=\"convertToInteractive('df-b3d5ff3f-cc60-4505-85ec-081233c8e770')\"\n",
              "              title=\"Convert this dataframe to an interactive table.\"\n",
              "              style=\"display:none;\">\n",
              "        \n",
              "  <svg xmlns=\"http://www.w3.org/2000/svg\" height=\"24px\"viewBox=\"0 0 24 24\"\n",
              "       width=\"24px\">\n",
              "    <path d=\"M0 0h24v24H0V0z\" fill=\"none\"/>\n",
              "    <path d=\"M18.56 5.44l.94 2.06.94-2.06 2.06-.94-2.06-.94-.94-2.06-.94 2.06-2.06.94zm-11 1L8.5 8.5l.94-2.06 2.06-.94-2.06-.94L8.5 2.5l-.94 2.06-2.06.94zm10 10l.94 2.06.94-2.06 2.06-.94-2.06-.94-.94-2.06-.94 2.06-2.06.94z\"/><path d=\"M17.41 7.96l-1.37-1.37c-.4-.4-.92-.59-1.43-.59-.52 0-1.04.2-1.43.59L10.3 9.45l-7.72 7.72c-.78.78-.78 2.05 0 2.83L4 21.41c.39.39.9.59 1.41.59.51 0 1.02-.2 1.41-.59l7.78-7.78 2.81-2.81c.8-.78.8-2.07 0-2.86zM5.41 20L4 18.59l7.72-7.72 1.47 1.35L5.41 20z\"/>\n",
              "  </svg>\n",
              "      </button>\n",
              "      \n",
              "  <style>\n",
              "    .colab-df-container {\n",
              "      display:flex;\n",
              "      flex-wrap:wrap;\n",
              "      gap: 12px;\n",
              "    }\n",
              "\n",
              "    .colab-df-convert {\n",
              "      background-color: #E8F0FE;\n",
              "      border: none;\n",
              "      border-radius: 50%;\n",
              "      cursor: pointer;\n",
              "      display: none;\n",
              "      fill: #1967D2;\n",
              "      height: 32px;\n",
              "      padding: 0 0 0 0;\n",
              "      width: 32px;\n",
              "    }\n",
              "\n",
              "    .colab-df-convert:hover {\n",
              "      background-color: #E2EBFA;\n",
              "      box-shadow: 0px 1px 2px rgba(60, 64, 67, 0.3), 0px 1px 3px 1px rgba(60, 64, 67, 0.15);\n",
              "      fill: #174EA6;\n",
              "    }\n",
              "\n",
              "    [theme=dark] .colab-df-convert {\n",
              "      background-color: #3B4455;\n",
              "      fill: #D2E3FC;\n",
              "    }\n",
              "\n",
              "    [theme=dark] .colab-df-convert:hover {\n",
              "      background-color: #434B5C;\n",
              "      box-shadow: 0px 1px 3px 1px rgba(0, 0, 0, 0.15);\n",
              "      filter: drop-shadow(0px 1px 2px rgba(0, 0, 0, 0.3));\n",
              "      fill: #FFFFFF;\n",
              "    }\n",
              "  </style>\n",
              "\n",
              "      <script>\n",
              "        const buttonEl =\n",
              "          document.querySelector('#df-b3d5ff3f-cc60-4505-85ec-081233c8e770 button.colab-df-convert');\n",
              "        buttonEl.style.display =\n",
              "          google.colab.kernel.accessAllowed ? 'block' : 'none';\n",
              "\n",
              "        async function convertToInteractive(key) {\n",
              "          const element = document.querySelector('#df-b3d5ff3f-cc60-4505-85ec-081233c8e770');\n",
              "          const dataTable =\n",
              "            await google.colab.kernel.invokeFunction('convertToInteractive',\n",
              "                                                     [key], {});\n",
              "          if (!dataTable) return;\n",
              "\n",
              "          const docLinkHtml = 'Like what you see? Visit the ' +\n",
              "            '<a target=\"_blank\" href=https://colab.research.google.com/notebooks/data_table.ipynb>data table notebook</a>'\n",
              "            + ' to learn more about interactive tables.';\n",
              "          element.innerHTML = '';\n",
              "          dataTable['output_type'] = 'display_data';\n",
              "          await google.colab.output.renderOutput(dataTable, element);\n",
              "          const docLink = document.createElement('div');\n",
              "          docLink.innerHTML = docLinkHtml;\n",
              "          element.appendChild(docLink);\n",
              "        }\n",
              "      </script>\n",
              "    </div>\n",
              "  </div>\n",
              "  "
            ]
          },
          "metadata": {},
          "execution_count": 3
        }
      ],
      "source": [
        "from sklearn import preprocessing\n",
        "from sklearn.datasets import fetch_openml\n",
        "\n",
        "\n",
        "data = fetch_openml(\"titanic\", version=1, as_frame=True).frame\n",
        "data.survived = pd.to_numeric(data['survived'])\n",
        "data.drop(['boat', 'body', 'home.dest'], axis=1, inplace=True)\n",
        "data = data.drop(['name', 'ticket', 'cabin', 'embarked'], axis=1) # remove unimportant columns\n",
        "le = preprocessing.LabelEncoder()\n",
        "le.fit(data['sex'])\n",
        "data['sex'] = le.transform(data['sex']) \n",
        "data.head()"
      ]
    },
    {
      "cell_type": "markdown",
      "metadata": {
        "id": "tdHK09KWIhub"
      },
      "source": [
        "Next, as we have become accustomed to doing, we will split the dataset into a training set (where we will do our cross validation) and a test set (our hold-out data). We've done this a few times during the labs, so hopefully you're getting used to the process!"
      ]
    },
    {
      "cell_type": "code",
      "execution_count": 4,
      "metadata": {
        "id": "CHYYoq9uIhuc"
      },
      "outputs": [],
      "source": [
        "from sklearn.model_selection import train_test_split\n",
        "\n",
        "target_data = data[\"survived\"]\n",
        "feature_data = data.iloc[:, data.columns != \"survived\"]\n",
        "\n",
        "X_train, X_test, y_train, y_test = train_test_split(feature_data, target_data, test_size=0.3, random_state=0)"
      ]
    },
    {
      "cell_type": "markdown",
      "metadata": {
        "id": "4UvxOkuoIhud"
      },
      "source": [
        "Now, we're ready to try out some models on our training data (you haven't seen anything new yet!). Since we're solving a binary classification problem (i.e., predicting a 0 or 1 target), we want to design classifiers. So far in the course we've covered the following simple classifiers: **k-nearest neighbors**, **decision trees**, and **logistic regression**.\n",
        "\n",
        "In this exercise, we're going to fit a logistic regression to our data and then design a neural network architecture that behaves exactly like a logistic regression and validate that we get the same result.\n",
        "\n",
        "##### Recap: Logistic Regression\n",
        "\n",
        "Logistic regression models are linear models similar to linear regression models. Hopefully you somewhat remember them from lecture. Let's review them, starting with the linear regression equation:\n",
        "\n",
        "\n",
        "<center>$\\hat{y} = \\beta_0 + \\beta_1 x_1 + \\beta_2 x_2 +, \\dots, + \\beta_n x_n$</center>\n",
        "\n",
        "Where $\\hat{y}$ is our prediction, $\\beta$ is our vector of coefficients (the things we learn), and $x$ is our feature vector. The linear regression equation defines a line in $n$ dimensional space. The problem with linear regression is that it doesn't really perform well on classification tasks. Consider the following example:\n",
        "\n",
        "<img src=\"https://github.com/lyeskhalil/mlbootcamp/blob/master/img/linear-classification.png?raw=1\" width=\"500\"/>\n",
        "\n",
        "The green line represents our trained linear regression model. Our feature is the size of a tumor, and our target is whether it is malignant or not (0 or 1). As we can see, even though our model is trained to the data to minimize error, for a lot of the values of tumor size it is going to give us a weird result (e.g., for some really small tumors, the prediction would be a negative value!).\n",
        "\n",
        "To resolve this, we use the *logistic function* (also called the *sigmoid* function) to 'squish' our linear model to be bounded by 0 and 1. The logistic (sigmoid) function is $\\frac{1}{1+e^{-x}}$, and thus our logistic regression equation becomes:\n",
        "\n",
        "<center>$\\large\\hat{y} = \\frac{1}{1+e^{-(\\beta_0 + \\beta_1 x_1 + \\beta_2 x_2 +, \\dots, + \\beta_n x_n)}}$</center>\n",
        "\n",
        "In this equation, the values for $\\hat{y}$ can never be below 0, and can never exceed 1 even for the most extreme feature values $x$.\n",
        "\n",
        "**YOUR TURN:** \n",
        "* Assuming you've trained a nice logistic regression model to the below data (see Figure), what might the model fit look like (i.e., what will the line look like)? ____________________________________\n",
        "* For new data samples with features $x$, how would you convert the output of the logistic regression, $\\hat{y}$, into a classification (0 or 1)? ______________________________\n",
        "\n",
        "<img src=\"https://github.com/lyeskhalil/mlbootcamp/blob/master/img/logistic-classification.jpg?raw=1\" width=\"400\"/>\n",
        "\n",
        "OK, cool! So a quick review of logistic regression. Let's use scikit-learn to fit a logistic regression model to our training set and then predict on our test set (we won't do cross validation this time). Remember, when we used decision trees and tree ensembles, our cross validation accuracy was somewhere from 75-80%. \n",
        "\n",
        "*Note: Remember to first impute missing values!*"
      ]
    },
    {
      "cell_type": "code",
      "execution_count": 5,
      "metadata": {
        "id": "t7iInLxCIhue",
        "outputId": "3f5bcb06-7de8-4454-8419-51c2b3cb9f19",
        "colab": {
          "base_uri": "https://localhost:8080/"
        }
      },
      "outputs": [
        {
          "output_type": "stream",
          "name": "stdout",
          "text": [
            "Logistic accuracy: 79.13 %\n"
          ]
        }
      ],
      "source": [
        "from sklearn.impute import SimpleImputer\n",
        "from sklearn.linear_model import LogisticRegression\n",
        "from sklearn.metrics import accuracy_score\n",
        "\n",
        "imp = SimpleImputer(missing_values=np.nan, strategy='most_frequent') # Remember to impute missing values! (training set)\n",
        "imp.fit(X_train)\n",
        "\n",
        "X_train = imp.transform(X_train) \n",
        "\n",
        "logreg = LogisticRegression() \n",
        "logreg.fit(X_train, y_train)\n",
        "\n",
        "X_test = imp.transform(X_test) # Remember to impute missing values! (test set)\n",
        "predictions = logreg.predict(X_test)\n",
        "\n",
        "accuracy = accuracy_score(y_test, predictions)\n",
        "print (\"Logistic accuracy: %.2f\" % (accuracy * 100), \"%\")"
      ]
    },
    {
      "cell_type": "markdown",
      "metadata": {
        "id": "bX9iX-X4Ihuf"
      },
      "source": [
        "And so our logistic regression gives us similar performance to the tree methods we explored yesterday. \n",
        "\n",
        "**YOUR TURN:** \n",
        "* The default regularization parameter for sklearn's logistic regression is L2 (or ridge regression); can you figure out how to change it to L1 (LASSO)? ______________________\n",
        "* What is the mean accuracy of an L1 regularized Logistic regression model on the training set? ______________________\n",
        "\n",
        "OK - time for the good stuff!\n",
        "\n",
        "### Neural Networks\n",
        "\n",
        "A *neural network* (NN) is a type of machine learning model that, like linear or logistic regression, takes a feature vector, X, as input and predicts a target, y. The way it does this is a little bit different, however. A typical NN architecture consists of: an input layer, hidden layers, and an output layer. Each layer consists of a set of nodes (neurons) connected by edges (outputs). Let's look at the figure below:\n",
        "\n",
        "<img src=\"https://github.com/lyeskhalil/mlbootcamp/blob/master/img/nn.jpeg?raw=1\" width=\"400\"/>\n",
        "\n",
        "**Input layer**: This is a passive layer that simply takes in your feature data and outputs it to the hidden layers. You can think of each input layer neuron as being associated with a feature in your feature set.\n",
        "\n",
        "**Hidden layer**: This is where the magic happens. The original features, as received by the input layer, go through a series of transformations within the hidden layer. You can think of each node (neuron) within the hidden layer as a highly transformed feature. \n",
        "\n",
        "**Output layer**: This is where we get our final result, the 0 or 1 prediction.\n",
        "\n",
        "### Zooming In\n",
        "\n",
        "Let's take a look at what is happening at any given node (neuron) within the hidden layer. Take a look at the following image of a neuron within an NN:\n",
        "\n",
        "<img src=\"https://github.com/lyeskhalil/mlbootcamp/blob/master/img/neuron.png?raw=1\" width=\"500\"/>\n",
        "\n",
        "Every neuron has some inputs ($x_1, x_2, \\dots, x_n$) with input weights ($w_1, w_2, \\dots, w_n$) and an output, $Y$. The neuron itself applies a transformation, $f$, known as the *activation function*, to the linear combination of its inputs and input weights. The value $b$ is a constant weight called the bias.\n",
        "\n",
        "There are many different types of activation functions, but the popular ones are the *sigmoid*, *tanh*, and *ReLU* activation functions. Yes, you heard correctly: the sigmoid function is a popular activation function! (This should be reminding you of the logistic regression model we discussed above).\n",
        "\n",
        "**YOUR TURN:**\n",
        "* If you were to develop a simple neural network architecture that was equivalent to a logistic regression model for the Titanic data, how would you do it? Get a pen and paper and draw it out. Make sure to specify: the input layer, the hidden layer(s), the output layer, the activation function(s), the weights, and the biases.\n",
        "* How many hidden layers does your NN have? What type of activation function, $f$, does it use? _________________\n",
        "* Say you wanted to add another layer to your NN architecture with 3x neurons, what would your new architecture look like? _________________\n",
        "\n",
        "### Intro to  PyTorch\n",
        "\n",
        "OK, so now that we've made the connection between NNs and Logistic Regression, let's code up our little NN in PyTorch and use it to predict survivorship on the Titanic dataset.\n",
        "\n",
        "First, *tensors* are the fundamental data type of PyTorch. Each tensor is effectively a multi-dimensional array, just like a numpy array. The primary difference is that tensors have been setup in such a way to enhance the NN training process.\n",
        "\n",
        "Let's load our X and y training data into tensors: "
      ]
    },
    {
      "cell_type": "code",
      "execution_count": 6,
      "metadata": {
        "id": "gxobcMqFIhug"
      },
      "outputs": [],
      "source": [
        "import torch\n",
        "from torch import nn, optim\n",
        "from torch.autograd import Variable\n",
        "\n",
        "X_train_tensor = Variable(torch.Tensor(X_train))\n",
        "y_train_tensor = Variable(torch.Tensor(y_train.values))\n",
        "\n",
        "X_test_tensor = Variable(torch.Tensor(X_test))"
      ]
    },
    {
      "cell_type": "markdown",
      "metadata": {
        "id": "XCDsVueiIhuh"
      },
      "source": [
        "Next, we will actually define our logistic regression network model class. The below function, `LogisticRegression`, applies a sigmoid transformation to the output, as required."
      ]
    },
    {
      "cell_type": "code",
      "execution_count": 7,
      "metadata": {
        "id": "vnbPW--OIhuh"
      },
      "outputs": [],
      "source": [
        "class LogisticRegression(torch.nn.Module):\n",
        "    def __init__(self, input_dim, output_dim):\n",
        "        super(LogisticRegression, self).__init__()\n",
        "        self.linear = torch.nn.Linear(input_dim, output_dim)\n",
        "\n",
        "    def forward(self, x):\n",
        "        outputs = torch.sigmoid(self.linear(x))\n",
        "        return outputs"
      ]
    },
    {
      "cell_type": "markdown",
      "metadata": {
        "id": "OBNTYMbRIhuh"
      },
      "source": [
        "Next, we identify the dimensions of our problem: 6 x 2 (6 features and 2 target classes: 0 or 1), initialize our model with those dimensions and then specify the loss function ([cross entropy](https://en.wikipedia.org/wiki/Cross_entropy)) and optimization technique ([stochastic gradient descent](https://en.wikipedia.org/wiki/Stochastic_gradient_descent))."
      ]
    },
    {
      "cell_type": "code",
      "execution_count": 8,
      "metadata": {
        "id": "zAfHj63fIhui"
      },
      "outputs": [],
      "source": [
        "input_dim = 6\n",
        "output_dim = 2\n",
        "    \n",
        "model = LogisticRegression(input_dim, output_dim)\n",
        "\n",
        "criterion = torch.nn.CrossEntropyLoss() \n",
        "optimizer = torch.optim.SGD(model.parameters(), lr=0.01)"
      ]
    },
    {
      "cell_type": "markdown",
      "metadata": {
        "id": "MyFpvFy_Ihui"
      },
      "source": [
        "Next, we set up our dataset to be *iterable* such that we can train our neural network in *batches*. A batch is a subset of the total data such that if we combined them all, we'd get the whole dataset. Batching is done to speed up the training process and reduce memory requirements.\n",
        "\n",
        "**YOUR TURN:** \n",
        "* If we select a batch size of 32, how many batches of training data will be generated?________________\n",
        "\n",
        "The `DataLoader` function does this batching operation for us."
      ]
    },
    {
      "cell_type": "code",
      "execution_count": 9,
      "metadata": {
        "id": "yTtyV_mVIhuj"
      },
      "outputs": [],
      "source": [
        "batch_size = 32\n",
        "\n",
        "train_loader = torch.utils.data.DataLoader(dataset=X_train_tensor, batch_size=batch_size, shuffle=True)\n",
        "test_loader = torch.utils.data.DataLoader(dataset=X_test_tensor, batch_size=batch_size, shuffle=True)"
      ]
    },
    {
      "cell_type": "markdown",
      "metadata": {
        "id": "9ltyMFvsIhuj"
      },
      "source": [
        "Next, we train our NN and test its performance on the test set every 500 iterations. We use 3000 *epochs* and print our accuracy values every 4000 iterations. An epoch is when the entire dataset has passed through the network. An iteration is when a single forward/backward pass of the network over a batch of data is done. \n",
        "\n",
        "**YOUR TURN:**\n",
        "* If our batch size is 32 and we elect to do 3000 epochs (i.e., the network sees the entire dataset 3000 times), how many iterations (forward/backward passes of the data) will our network see? _______________________\n",
        "\n",
        "Run the below code and check out the incremental accuracy improvement output below."
      ]
    },
    {
      "cell_type": "code",
      "execution_count": 12,
      "metadata": {
        "id": "q2lxP28lIhuj",
        "outputId": "a816eea5-caa8-4636-9585-073f5c306a1c",
        "colab": {
          "base_uri": "https://localhost:8080/"
        }
      },
      "outputs": [
        {
          "output_type": "stream",
          "name": "stdout",
          "text": [
            "Logistic NN test set accuracy: 76.08 after 4000 iterations\n",
            "Logistic NN test set accuracy: 76.08 after 8000 iterations\n",
            "Logistic NN test set accuracy: 76.08 after 12000 iterations\n",
            "Logistic NN test set accuracy: 76.08 after 16000 iterations\n",
            "Logistic NN test set accuracy: 75.83 after 20000 iterations\n",
            "Logistic NN test set accuracy: 75.83 after 24000 iterations\n",
            "Logistic NN test set accuracy: 75.83 after 28000 iterations\n",
            "Logistic NN test set accuracy: 75.57 after 32000 iterations\n",
            "Logistic NN test set accuracy: 75.57 after 36000 iterations\n",
            "Logistic NN test set accuracy: 75.57 after 40000 iterations\n",
            "Logistic NN test set accuracy: 75.57 after 44000 iterations\n",
            "Logistic NN test set accuracy: 75.57 after 48000 iterations\n",
            "Logistic NN test set accuracy: 75.57 after 52000 iterations\n",
            "Logistic NN test set accuracy: 75.57 after 56000 iterations\n",
            "Logistic NN test set accuracy: 75.83 after 60000 iterations\n",
            "Logistic NN test set accuracy: 75.83 after 64000 iterations\n",
            "Logistic NN test set accuracy: 75.83 after 68000 iterations\n",
            "Logistic NN test set accuracy: 75.57 after 72000 iterations\n",
            "Logistic NN test set accuracy: 75.32 after 76000 iterations\n",
            "Logistic NN test set accuracy: 75.32 after 80000 iterations\n",
            "Logistic NN test set accuracy: 75.32 after 84000 iterations\n",
            "Logistic NN test set accuracy: 75.32 after 88000 iterations\n",
            "Logistic NN test set accuracy: 75.32 after 92000 iterations\n",
            "Logistic NN test set accuracy: 75.32 after 96000 iterations\n",
            "Logistic NN test set accuracy: 75.32 after 100000 iterations\n",
            "Logistic NN test set accuracy: 75.32 after 104000 iterations\n",
            "Logistic NN test set accuracy: 75.32 after 108000 iterations\n",
            "Logistic NN test set accuracy: 75.32 after 112000 iterations\n",
            "Logistic NN test set accuracy: 75.06 after 116000 iterations\n",
            "Logistic NN test set accuracy: 75.06 after 120000 iterations\n",
            "Logistic NN test set accuracy: 75.06 after 124000 iterations\n",
            "Logistic NN test set accuracy: 75.06 after 128000 iterations\n",
            "Logistic NN test set accuracy: 75.06 after 132000 iterations\n",
            "Logistic NN test set accuracy: 75.06 after 136000 iterations\n",
            "Logistic NN test set accuracy: 75.06 after 140000 iterations\n",
            "Logistic NN test set accuracy: 75.06 after 144000 iterations\n",
            "Logistic NN test set accuracy: 75.06 after 148000 iterations\n",
            "Logistic NN test set accuracy: 75.06 after 152000 iterations\n",
            "Logistic NN test set accuracy: 75.06 after 156000 iterations\n",
            "Logistic NN test set accuracy: 75.06 after 160000 iterations\n",
            "Logistic NN test set accuracy: 75.06 after 164000 iterations\n",
            "Logistic NN test set accuracy: 75.06 after 168000 iterations\n",
            "Logistic NN test set accuracy: 75.06 after 172000 iterations\n",
            "Logistic NN test set accuracy: 75.06 after 176000 iterations\n",
            "Logistic NN test set accuracy: 75.06 after 180000 iterations\n",
            "Logistic NN test set accuracy: 75.06 after 184000 iterations\n",
            "Logistic NN test set accuracy: 75.06 after 188000 iterations\n",
            "Logistic NN test set accuracy: 75.06 after 192000 iterations\n",
            "Logistic NN test set accuracy: 75.06 after 196000 iterations\n",
            "Logistic NN test set accuracy: 75.06 after 200000 iterations\n",
            "Logistic NN test set accuracy: 75.06 after 204000 iterations\n",
            "Logistic NN test set accuracy: 75.06 after 208000 iterations\n",
            "Logistic NN test set accuracy: 75.06 after 212000 iterations\n",
            "Logistic NN test set accuracy: 75.06 after 216000 iterations\n",
            "Logistic NN test set accuracy: 75.06 after 220000 iterations\n",
            "Logistic NN test set accuracy: 75.06 after 224000 iterations\n",
            "Logistic NN test set accuracy: 75.06 after 228000 iterations\n",
            "Logistic NN test set accuracy: 75.06 after 232000 iterations\n"
          ]
        }
      ],
      "source": [
        "import random\n",
        "\n",
        "random.seed(1)\n",
        "torch.manual_seed(1)\n",
        "torch.backends.cudnn.deterministic = True\n",
        "\n",
        "iterations = 0\n",
        "epochs = 3000\n",
        "\n",
        "for epoch in range(epochs):\n",
        "    for features, target in enumerate(train_loader):\n",
        "        optimizer.zero_grad()\n",
        "        outputs = model(X_train_tensor.float())\n",
        "        loss = criterion(outputs, y_train_tensor.long())\n",
        "        loss.backward()\n",
        "        optimizer.step()\n",
        "        \n",
        "        iterations += 1\n",
        "\n",
        "        if iterations % 4000 == 0:\n",
        "            outputs = model(X_test_tensor.float())\n",
        "            _, predicted = torch.max(outputs.data, 1)\n",
        "\n",
        "            accuracy = accuracy_score(y_test, np.array(predicted))\n",
        "            print (\"Logistic NN test set accuracy: %.2f after %d iterations\" % (accuracy * 100, iterations))"
      ]
    },
    {
      "cell_type": "markdown",
      "metadata": {
        "id": "YuXmjwuMIhuk"
      },
      "source": [
        "Hopefully you got an accuracy of around ~79%. What you'll notice is that is the same accuracy we got from sklearn's built-in logistic regression function from earlier in the lab! \n",
        "\n",
        "Let's take a look at the trained model parameters using the `model.parameters()` function within PyTorch."
      ]
    },
    {
      "cell_type": "code",
      "execution_count": 11,
      "metadata": {
        "id": "535umxhZIhuk",
        "outputId": "b8c6dbd6-65f5-4f08-bfa3-250bdf3dc51a",
        "colab": {
          "base_uri": "https://localhost:8080/"
        }
      },
      "outputs": [
        {
          "output_type": "execute_result",
          "data": {
            "text/plain": [
              "[Parameter containing:\n",
              " tensor([[ 0.2954,  3.7111,  0.0665,  1.6594,  0.0412, -0.1659],\n",
              "         [-0.2349, -5.7985,  0.0333, -0.5174, -0.4381,  0.0094]],\n",
              "        requires_grad=True), Parameter containing:\n",
              " tensor([-1.2316,  1.3425], requires_grad=True)]"
            ]
          },
          "metadata": {},
          "execution_count": 11
        }
      ],
      "source": [
        "params = list(model.parameters())\n",
        "params"
      ]
    },
    {
      "cell_type": "markdown",
      "metadata": {
        "id": "gkfrWNPGIhuk"
      },
      "source": [
        "Hm, well this is interesting! We can see that our model consists of two tensors: the first has (2,6), and the second has dimension (1,2). Refer back to how you drew what you thought this NN architecture would look like.\n",
        "\n",
        "**YOU TURN:**\n",
        "* What do you think these values represent? ____________________________\n",
        "* How many hidden layers does the architecture have? ______________________________\n",
        "* Draw the architecture and label (some of) the weights (trained parameters). ______________________________\n",
        "\n",
        "(*Hint: to answer these questions, try printing `outputs.data[0]` and `predicted[0]` to look at the model's assessment of the first sample*)"
      ]
    },
    {
      "cell_type": "markdown",
      "metadata": {
        "id": "YeZvj7ekIhul"
      },
      "source": [
        "You'll notice that this took considerably longer to train than scikit-learn's logistic regression: this is because PyTorch is set-up to be more flexible and train architectures much more complex than a simple single neuron network. Scikit-learn's implementation of logistic regression is highly optimized. \n",
        "\n",
        "**YOUR TURN:**\n",
        "* How many epochs would you need to increase the process to 100,000 iterations? ______________________\n",
        "* Does increasing to 100,000 iterations improve your test set accuracy? ______________________\n",
        "* Compare the predictions of your logistic regression from scikit-learn and your network developed with PyTorch. Are all the predictions the same? How many predictions are pair-wise different? ______________________"
      ]
    },
    {
      "cell_type": "markdown",
      "metadata": {
        "id": "UEscia6QIhul"
      },
      "source": [
        "Congratulations! You've completed an introduction to neural networks and PyTorch. If you want to explore more sophisicated architectures and applications, check out designing a PyTorch neural network to properly classify digit images here:\n",
        "\n",
        "https://towardsdatascience.com/handwritten-digit-mnist-pytorch-977b5338e627\n",
        "\n",
        "Other than that, you're done the lab!"
      ]
    }
  ],
  "metadata": {
    "kernelspec": {
      "display_name": "Python 3",
      "language": "python",
      "name": "python3"
    },
    "language_info": {
      "codemirror_mode": {
        "name": "ipython",
        "version": 3
      },
      "file_extension": ".py",
      "mimetype": "text/x-python",
      "name": "python",
      "nbconvert_exporter": "python",
      "pygments_lexer": "ipython3",
      "version": "3.5.2"
    },
    "colab": {
      "name": "lab-3-1-neuralnets.ipynb",
      "provenance": []
    },
    "gpuClass": "standard"
  },
  "nbformat": 4,
  "nbformat_minor": 0
}