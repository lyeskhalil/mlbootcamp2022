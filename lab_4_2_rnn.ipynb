{
  "cells": [
    {
      "cell_type": "markdown",
      "metadata": {
        "id": "Q7swTJpoXxOJ"
      },
      "source": [
        "\n",
        "[![Open In Colab](https://colab.research.google.com/assets/colab-badge.svg)](https://colab.research.google.com/github/lyeskhalil/mlbootcamp2022/blob/main/lab_4_2_rnn.ipynb)\n",
        "\n",
        "# UofT FASE ML Bootcamp\n",
        "#### Thursday June 16, 2022\n",
        "#### Reccurrent Neural Networks - Lab 2, Day 4 \n",
        "#### Teaching team: Elias Khalil, Alex Olson, Rahul Patel, and Jake Mosseri\n",
        "##### Lab author: Jake Mosseri\n",
        "\n",
        "\n",
        "\n",
        "\n",
        "Adapted from:\n",
        "\n",
        "NLP From Scratch: Classifying Names with a Character-Level RNN\n",
        "**************************************************************\n",
        " `Sean Robertson <https://github.com/spro/practical-pytorch>`_\n",
        "\n",
        "\n",
        "We will be building and training a basic character-level RNN to classify\n",
        "words. A character-level RNN reads words as a series of characters -\n",
        "outputting a prediction and \"hidden state\" at each step, feeding its\n",
        "previous hidden state into each next step. We take the final prediction\n",
        "to be the output, i.e. which class the word belongs to.\n",
        "\n",
        "Specifically, we'll train on a few thousand surnames from 18 languages\n",
        "of origin, and predict which language a name is from based on the\n",
        "spelling:\n",
        "\n",
        "::\n",
        "\n",
        "    $ python predict.py Hinton\n",
        "    (-0.47) Scottish\n",
        "    (-1.52) English\n",
        "    (-3.57) Irish\n",
        "\n",
        "    $ python predict.py Schmidhuber\n",
        "    (-0.19) German\n",
        "    (-2.48) Czech\n",
        "    (-2.68) Dutch\n"
      ]
    },
    {
      "cell_type": "markdown",
      "source": [
        "First you will need to download the data from the github using the code below, which accesses our github and downloads and unzips the names folder. Make sure you can see a folder called names in the files section of colab after you run the following block."
      ],
      "metadata": {
        "id": "ueShtDwdqBWh"
      }
    },
    {
      "cell_type": "code",
      "source": [
        "from pathlib import Path\n",
        "from os import system\n",
        "\n",
        "if not Path('names.zip').exists():\n",
        "  system('wget --no-check-certificate --content-disposition https://github.com/lyeskhalil/mlbootcamp2022/raw/main/names.zip')\n",
        "\n",
        "if not Path('names').exists():\n",
        "  system('unzip names.zip')"
      ],
      "metadata": {
        "id": "aWEPze8JuME9"
      },
      "execution_count": 2,
      "outputs": []
    },
    {
      "cell_type": "code",
      "execution_count": 3,
      "metadata": {
        "id": "9TQay7uxXxOL",
        "outputId": "556c33d5-5d84-4a4e-cb86-be2bdd38b0ce",
        "colab": {
          "base_uri": "https://localhost:8080/"
        }
      },
      "outputs": [
        {
          "output_type": "stream",
          "name": "stdout",
          "text": [
            "['names/Greek.txt', 'names/French.txt', 'names/Italian.txt', 'names/Vietnamese.txt', 'names/Dutch.txt', 'names/Chinese.txt', 'names/Spanish.txt', 'names/Arabic.txt', 'names/Korean.txt', 'names/Czech.txt', 'names/German.txt', 'names/Russian.txt', 'names/Irish.txt', 'names/Japanese.txt', 'names/Portuguese.txt', 'names/Polish.txt', 'names/English.txt', 'names/Scottish.txt']\n",
            "Slusarski\n"
          ]
        }
      ],
      "source": [
        "from __future__ import unicode_literals, print_function, division\n",
        "from io import open\n",
        "import glob\n",
        "import os\n",
        "from sklearn.model_selection import train_test_split\n",
        "%matplotlib inline\n",
        "\n",
        "def findFiles(path): return glob.glob(path)\n",
        "\n",
        "print(findFiles('names/*.txt'))\n",
        "\n",
        "import unicodedata\n",
        "import string\n",
        "\n",
        "all_letters = string.ascii_letters + \" .,;'\"\n",
        "n_letters = len(all_letters)\n",
        "\n",
        "# Turn a Unicode string to plain ASCII, thanks to https://stackoverflow.com/a/518232/2809427\n",
        "def unicodeToAscii(s):\n",
        "    return ''.join(\n",
        "        c for c in unicodedata.normalize('NFD', s)\n",
        "        if unicodedata.category(c) != 'Mn'\n",
        "        and c in all_letters\n",
        "    )\n",
        "\n",
        "print(unicodeToAscii('Ślusàrski'))\n",
        "\n",
        "# Build the category_lines dictionary, a list of names per language\n",
        "category_lines = {}\n",
        "test_lines = {}\n",
        "all_categories = []\n",
        "\n",
        "# Read a file and split into lines\n",
        "def readLines(filename):\n",
        "    lines = open(filename, encoding='utf-8').read().strip().split('\\n')\n",
        "    return [unicodeToAscii(line) for line in lines]\n",
        "\n",
        "for filename in findFiles('names/*.txt'):\n",
        "    category = os.path.splitext(os.path.basename(filename))[0]\n",
        "    all_categories.append(category)\n",
        "    lines = readLines(filename)\n",
        "    train, test = train_test_split(lines)\n",
        "\n",
        "    category_lines[category] = train\n",
        "    test_lines[category] = test\n",
        "\n",
        "\n",
        "n_categories = len(all_categories)"
      ]
    },
    {
      "cell_type": "markdown",
      "metadata": {
        "id": "z9_d7ROUXxON"
      },
      "source": [
        "Now we have ``category_lines``, a dictionary mapping each category\n",
        "(language) to a list of lines (names). We also kept track of\n",
        "``all_categories`` (just a list of languages) and ``n_categories`` for\n",
        "later reference.\n",
        "\n",
        "\n"
      ]
    },
    {
      "cell_type": "code",
      "execution_count": 4,
      "metadata": {
        "id": "96Z1GI_6XxON",
        "outputId": "1535c34f-8ad9-4276-9c89-b6ff77827577",
        "colab": {
          "base_uri": "https://localhost:8080/"
        }
      },
      "outputs": [
        {
          "output_type": "stream",
          "name": "stdout",
          "text": [
            "['Vaccaro', 'Stabile', 'Provenza', \"D'ambrosio\", 'Nardo']\n"
          ]
        }
      ],
      "source": [
        "print(category_lines['Italian'][:5])"
      ]
    },
    {
      "cell_type": "markdown",
      "metadata": {
        "id": "78LO8K7iXxOO"
      },
      "source": [
        "Turning Names into Tensors\n",
        "--------------------------\n",
        "\n",
        "Now that we have all the names organized, we need to turn them into\n",
        "Tensors to make any use of them.\n",
        "\n",
        "To represent a single letter, we use a \"one-hot vector\" of size\n",
        "``<1 x n_letters>``. A one-hot vector is filled with 0s except for a 1\n",
        "at index of the current letter, e.g. ``\"b\" = <0 1 0 0 0 ...>``.\n",
        "\n",
        "To make a word we join a bunch of those into a 2D matrix\n",
        "``<line_length x 1 x n_letters>``.\n",
        "\n",
        "That extra 1 dimension is because PyTorch assumes everything is in\n",
        "batches - we're just using a batch size of 1 here.\n",
        "\n",
        "\n",
        "\n",
        "**YOUR TURN:** In the code below, we differentiate between an upper case and a lower case letter (i.e., the letter \"J\" and the letter \"j\" will produce two different vectors). \n",
        "* Can you think of reasons why this may or may not be wanted behaviour (for this use case or others)?____________________________\n",
        "\n"
      ]
    },
    {
      "cell_type": "code",
      "execution_count": 8,
      "metadata": {
        "id": "2M5xTiqZXxOO",
        "outputId": "15ba9458-cc79-4220-d89c-aaebcd5aa7e6",
        "colab": {
          "base_uri": "https://localhost:8080/"
        }
      },
      "outputs": [
        {
          "output_type": "stream",
          "name": "stdout",
          "text": [
            "tensor([[0., 0., 0., 0., 0., 0., 0., 0., 0., 0., 0., 0., 0., 0., 0., 0., 0., 0.,\n",
            "         0., 0., 0., 0., 0., 0., 0., 0., 0., 0., 0., 0., 0., 0., 0., 0., 0., 1.,\n",
            "         0., 0., 0., 0., 0., 0., 0., 0., 0., 0., 0., 0., 0., 0., 0., 0., 0., 0.,\n",
            "         0., 0., 0.]])\n",
            "torch.Size([5, 1, 57])\n"
          ]
        }
      ],
      "source": [
        "import torch\n",
        "\n",
        "# Find letter index from all_letters, e.g. \"a\" = 0\n",
        "def letterToIndex(letter):\n",
        "    return all_letters.find(letter)\n",
        "\n",
        "# Just for demonstration, turn a letter into a <1 x n_letters> Tensor\n",
        "def letterToTensor(letter):\n",
        "    tensor = torch.zeros(1, n_letters)\n",
        "    tensor[0][letterToIndex(letter)] = 1\n",
        "    return tensor\n",
        "\n",
        "# Turn a line into a <line_length x 1 x n_letters>,\n",
        "# or an array of one-hot letter vectors\n",
        "def lineToTensor(line):\n",
        "    tensor = torch.zeros(len(line), 1, n_letters)\n",
        "    for li, letter in enumerate(line):\n",
        "        tensor[li][0][letterToIndex(letter)] = 1\n",
        "    return tensor\n",
        "\n",
        "print(letterToTensor('J'))\n",
        "\n",
        "print(lineToTensor('Jones').size())"
      ]
    },
    {
      "cell_type": "markdown",
      "metadata": {
        "id": "SP0q8WS7XxOP"
      },
      "source": [
        "Creating the Network\n",
        "====================\n",
        "\n",
        "Before autograd, creating a recurrent neural network in Torch involved\n",
        "cloning the parameters of a layer over several timesteps. The layers\n",
        "held hidden state and gradients which are now entirely handled by the\n",
        "graph itself. This means you can implement a RNN in a very \"pure\" way,\n",
        "as regular feed-forward layers.\n",
        "\n",
        "This RNN module is just 2 linear layers which operate on an input and hidden state, with a LogSoftmax layer after the output.\n",
        "\n",
        "\n",
        "\n"
      ]
    },
    {
      "cell_type": "code",
      "execution_count": 9,
      "metadata": {
        "id": "wBrN9wpVXxOQ"
      },
      "outputs": [],
      "source": [
        "import torch.nn as nn\n",
        "import torch.nn.functional as F\n",
        "\n",
        "class RNN(nn.Module):\n",
        "    def __init__(self, input_size, hidden_size, output_size):\n",
        "        super(RNN, self).__init__()\n",
        "\n",
        "        self.hidden_size = hidden_size\n",
        "\n",
        "        self.i2h = nn.Linear(input_size + hidden_size, hidden_size)\n",
        "        self.i2o = nn.Linear(input_size + hidden_size, output_size)\n",
        "\n",
        "    def forward(self, input, hidden):\n",
        "        combined = torch.cat((input, hidden), 1)\n",
        "        hidden = self.i2h(combined)\n",
        "        output = self.i2o(combined)\n",
        "        output = F.log_softmax(output, dim=1)\n",
        "        return output, hidden\n",
        "\n",
        "    def initHidden(self):\n",
        "        return torch.zeros(1, self.hidden_size)\n",
        "\n",
        "n_hidden = 128\n",
        "rnn = RNN(n_letters, n_hidden, n_categories)"
      ]
    },
    {
      "cell_type": "markdown",
      "source": [
        "**YOUR TURN:** In the code below, fill out an LSTM version of the neural net by using the nn.LSTM pytorch function instead of the two linear layers that we used above.\n",
        "* Look into the documentation for nn.LSTM to play around with different hyperparameters. If you want, you could try to stack multiple LSTM layers (by changing a hyperparameter) and observe its performance."
      ],
      "metadata": {
        "id": "Y3MaiZLmkhRn"
      }
    },
    {
      "cell_type": "code",
      "source": [
        "class LSTM(nn.Module):\n",
        "\n",
        "    def __init__(self, n_hidden, n_letters, n_categories):\n",
        "        super(LSTM, self).__init__()\n",
        "        # The LSTM takes letter vectors as inputs, and outputs hidden states\n",
        "        # with dimensionality n_hidden.\n",
        "        self.lstm = nn.LSTM(n_letters, n_hidden)\n",
        "\n",
        "        # The linear layer that maps from hidden state space to language space\n",
        "        self.hidden2lang = nn.Linear(n_hidden, n_categories)\n",
        "\n",
        "    def forward(self, letter, hidden=None):\n",
        "        # Insert your code here\n",
        "\n",
        "    def initHidden(self):\n",
        "        return\n",
        "\n",
        "\n",
        "lstm = LSTM(n_hidden, n_letters, n_categories)"
      ],
      "metadata": {
        "id": "P7w1lS5lZ3tB"
      },
      "execution_count": 10,
      "outputs": []
    },
    {
      "cell_type": "markdown",
      "metadata": {
        "id": "fZeO2nkEXxOR"
      },
      "source": [
        "To run a step of this network we need to pass an input (in our case, the\n",
        "Tensor for the current letter) and a previous hidden state (which we\n",
        "initialize as zeros at first). For the LSTM network, if we pass in nothing for the hidden state, it will automatically initialzie the first hidden state and cell as zeros. We'll get back the output (probability of\n",
        "each language) and a next hidden state (which we keep for the next\n",
        "step).\n",
        "\n",
        "\n"
      ]
    },
    {
      "cell_type": "code",
      "execution_count": 11,
      "metadata": {
        "id": "Fpso_mvLXxOR",
        "outputId": "1cb8bffa-08c5-4278-acf4-db95abefaefe",
        "colab": {
          "base_uri": "https://localhost:8080/"
        }
      },
      "outputs": [
        {
          "output_type": "stream",
          "name": "stdout",
          "text": [
            "tensor([[-2.9386, -3.0144, -3.0032, -2.7627, -2.8576, -2.8801, -2.8819, -2.8498,\n",
            "         -2.8386, -2.9768, -2.8599, -2.8989, -2.8158, -2.8669, -2.9292, -2.9381,\n",
            "         -2.8899, -2.8601]], grad_fn=<LogSoftmaxBackward0>)\n",
            "tensor([[-2.9286, -2.9284, -2.8745, -2.8442, -2.8579, -2.9728, -2.8285, -2.8571,\n",
            "         -2.8605, -2.9562, -2.9088, -2.8308, -2.9213, -2.8812, -2.9297, -2.8717,\n",
            "         -2.8579, -2.9333]], grad_fn=<LogSoftmaxBackward0>)\n"
          ]
        }
      ],
      "source": [
        "input = letterToTensor('A')\n",
        "hidden = torch.zeros(1, n_hidden)\n",
        "\n",
        "output, next_hidden = rnn(input, hidden)\n",
        "print(output)\n",
        "output, next_hidden = lstm(input)\n",
        "print(output)"
      ]
    },
    {
      "cell_type": "markdown",
      "metadata": {
        "id": "f0eaQG93XxOR"
      },
      "source": [
        "For the sake of efficiency we don't want to be creating a new Tensor for\n",
        "every step, so we will use ``lineToTensor`` instead of\n",
        "``letterToTensor`` and use slices. This could be further optimized by\n",
        "pre-computing batches of Tensors.\n",
        "\n",
        "\n"
      ]
    },
    {
      "cell_type": "code",
      "execution_count": 12,
      "metadata": {
        "id": "sp_511DwXxOS",
        "outputId": "6a7dee8a-7d74-4d36-8762-f9f90a41836d",
        "colab": {
          "base_uri": "https://localhost:8080/"
        }
      },
      "outputs": [
        {
          "output_type": "stream",
          "name": "stdout",
          "text": [
            "tensor([[-2.9386, -3.0144, -3.0032, -2.7627, -2.8576, -2.8801, -2.8819, -2.8498,\n",
            "         -2.8386, -2.9768, -2.8599, -2.8989, -2.8158, -2.8669, -2.9292, -2.9381,\n",
            "         -2.8899, -2.8601]], grad_fn=<LogSoftmaxBackward0>)\n",
            "tensor([[-2.9286, -2.9284, -2.8745, -2.8442, -2.8579, -2.9728, -2.8285, -2.8571,\n",
            "         -2.8605, -2.9562, -2.9088, -2.8308, -2.9213, -2.8812, -2.9297, -2.8717,\n",
            "         -2.8579, -2.9333]], grad_fn=<LogSoftmaxBackward0>)\n"
          ]
        }
      ],
      "source": [
        "input = lineToTensor('Albert')\n",
        "hidden = torch.zeros(1, n_hidden)\n",
        "\n",
        "output, next_hidden = rnn(input[0], hidden)\n",
        "print(output)\n",
        "\n",
        "output, next_hidden = lstm(input[0])\n",
        "print(output)"
      ]
    },
    {
      "cell_type": "markdown",
      "metadata": {
        "id": "8hD3Bbz_XxOS"
      },
      "source": [
        "As you can see the output is a ``<1 x n_categories>`` Tensor, where\n",
        "every item is the likelihood of that category (higher is more likely).\n",
        "\n",
        "\n"
      ]
    },
    {
      "cell_type": "markdown",
      "metadata": {
        "id": "h2DFZ_l-XxOS"
      },
      "source": [
        "Training\n",
        "========\n",
        "Preparing for Training\n",
        "----------------------\n",
        "\n",
        "Before going into training we should make a few helper functions. The\n",
        "first is to interpret the output of the network, which we know to be a\n",
        "likelihood of each category. We can use ``Tensor.topk`` to get the index\n",
        "of the greatest value:\n",
        "\n",
        "\n"
      ]
    },
    {
      "cell_type": "code",
      "execution_count": 13,
      "metadata": {
        "id": "GL_lsYJwXxOT",
        "outputId": "1c161a07-dd7f-49ec-dfbb-e5ef566cc83f",
        "colab": {
          "base_uri": "https://localhost:8080/"
        }
      },
      "outputs": [
        {
          "output_type": "stream",
          "name": "stdout",
          "text": [
            "('Spanish', 6)\n"
          ]
        }
      ],
      "source": [
        "def categoryFromOutput(output):\n",
        "    top_n, top_i = output.topk(1)\n",
        "    category_i = top_i[0].item()\n",
        "    return all_categories[category_i], category_i\n",
        "\n",
        "print(categoryFromOutput(output))"
      ]
    },
    {
      "cell_type": "markdown",
      "metadata": {
        "id": "wxrzRd-rXxOT"
      },
      "source": [
        "We will also want a quick way to get a training example (a name and its\n",
        "language):\n",
        "\n",
        "\n"
      ]
    },
    {
      "cell_type": "code",
      "execution_count": 14,
      "metadata": {
        "id": "M3VzsALGXxOT",
        "outputId": "4b37d1d2-9086-456d-afdc-2d03136a1841",
        "colab": {
          "base_uri": "https://localhost:8080/"
        }
      },
      "outputs": [
        {
          "output_type": "stream",
          "name": "stdout",
          "text": [
            "category = Chinese / line = Guan\n",
            "category = Korean / line = Cho\n",
            "category = Portuguese / line = Souza\n",
            "category = German / line = Stauss\n",
            "category = Arabic / line = Gerges\n",
            "category = Dutch / line = Rompaeij\n",
            "category = English / line = Trainor\n",
            "category = Arabic / line = Shamon\n",
            "category = Greek / line = Dioletis\n",
            "category = Scottish / line = Graham\n"
          ]
        }
      ],
      "source": [
        "import random\n",
        "\n",
        "def randomChoice(l):\n",
        "    return l[random.randint(0, len(l) - 1)]\n",
        "\n",
        "def randomTrainingExample():\n",
        "    category = randomChoice(all_categories)\n",
        "    line = randomChoice(category_lines[category])\n",
        "    category_tensor = torch.tensor([all_categories.index(category)], dtype=torch.long)\n",
        "    line_tensor = lineToTensor(line)\n",
        "    return category, line, category_tensor, line_tensor\n",
        "\n",
        "def randomTestingExample():\n",
        "    category = randomChoice(all_categories)\n",
        "    line = randomChoice(test_lines[category])\n",
        "    category_tensor = torch.tensor([all_categories.index(category)], dtype=torch.long)\n",
        "    line_tensor = lineToTensor(line)\n",
        "    return category, line, category_tensor, line_tensor\n",
        "\n",
        "for i in range(10):\n",
        "    category, line, category_tensor, line_tensor = randomTrainingExample()\n",
        "    print('category =', category, '/ line =', line)"
      ]
    },
    {
      "cell_type": "markdown",
      "metadata": {
        "id": "rlSGUKM9XxOU"
      },
      "source": [
        "Training the Network\n",
        "--------------------\n",
        "\n",
        "Now all it takes to train this network is show it a bunch of examples,\n",
        "have it make guesses, and tell it if it's wrong.\n",
        "\n",
        "For the loss function ``nn.NLLLoss`` is appropriate, since the last\n",
        "layer of the RNN is ``nn.LogSoftmax``.\n",
        "\n",
        "\n"
      ]
    },
    {
      "cell_type": "code",
      "execution_count": 15,
      "metadata": {
        "id": "7BUPTPJfXxOU"
      },
      "outputs": [],
      "source": [
        "criterion = nn.NLLLoss()"
      ]
    },
    {
      "cell_type": "markdown",
      "metadata": {
        "id": "s6i17_whXxOU"
      },
      "source": [
        "Each loop of training will:\n",
        "\n",
        "-  Create input and target tensors\n",
        "-  Create a zeroed initial hidden state\n",
        "-  Read each letter in and\n",
        "\n",
        "   -  Keep hidden state for next letter\n",
        "\n",
        "-  Compare final output to target\n",
        "-  Back-propagate\n",
        "-  Return the output and loss\n",
        "\n",
        "\n"
      ]
    },
    {
      "cell_type": "code",
      "execution_count": 16,
      "metadata": {
        "id": "8kY5voUrXxOU"
      },
      "outputs": [],
      "source": [
        "learning_rate = 0.005 # If you set this too high, it might explode. If too low, it might not learn\n",
        "\n",
        "def train(category_tensor, line_tensor, model):\n",
        "    hidden = model.initHidden()\n",
        "\n",
        "    model.zero_grad()\n",
        "\n",
        "    for i in range(line_tensor.size()[0]):\n",
        "        output, hidden = model(line_tensor[i], hidden)\n",
        "\n",
        "    loss = criterion(output, category_tensor)\n",
        "    loss.backward()\n",
        "\n",
        "    # Add parameters' gradients to their values, multiplied by learning rate\n",
        "    # This is manually updating the weights similarly to how it was described in the 3 blue 1 brown video yesterday\n",
        "    for p in model.parameters():\n",
        "        p.data.add_(p.grad.data, alpha=-learning_rate)\n",
        "\n",
        "    return output, loss.item()"
      ]
    },
    {
      "cell_type": "markdown",
      "metadata": {
        "id": "qzgYm8LSXxOV"
      },
      "source": [
        "Now we just have to run that with a bunch of examples. Since the\n",
        "``train`` function returns both the output and loss we can print its\n",
        "guesses and also keep track of loss for plotting. Since there are 1000s\n",
        "of examples we print only every ``print_every`` examples, and take an\n",
        "average of the loss.\n",
        "\n",
        "\n"
      ]
    },
    {
      "cell_type": "code",
      "execution_count": 17,
      "metadata": {
        "id": "SUh1HwzVXxOV",
        "outputId": "5fbb3106-5195-4567-c90c-304f120be67b",
        "colab": {
          "base_uri": "https://localhost:8080/"
        }
      },
      "outputs": [
        {
          "output_type": "stream",
          "name": "stdout",
          "text": [
            "5000 5% (0m 16s) 2.9162 Cao / Italian ✗ (Vietnamese)\n",
            "10000 10% (0m 34s) 2.9186 Bazzi / Italian ✗ (Arabic)\n",
            "15000 15% (0m 50s) 2.7934 Cong / Vietnamese ✗ (Chinese)\n",
            "20000 20% (1m 7s) 2.7581 Uhlik / Polish ✗ (Czech)\n",
            "25000 25% (1m 24s) 2.5876 Toma / Chinese ✗ (Arabic)\n",
            "30000 30% (1m 40s) 2.6207 Moreno / French ✗ (Portuguese)\n",
            "35000 35% (1m 57s) 2.7440 Keefe / German ✗ (Irish)\n",
            "40000 40% (2m 13s) 2.3429 Horri / Italian ✗ (Japanese)\n",
            "45000 45% (2m 30s) 1.4474 Zinovin / Russian ✓\n",
            "50000 50% (2m 47s) 0.6579 Nishikawa / Japanese ✓\n",
            "55000 55% (3m 4s) 1.5988 Essa / Arabic ✓\n",
            "60000 60% (3m 20s) 1.3635 Kalaev / Russian ✓\n",
            "65000 65% (3m 36s) 0.7192 Kouros / Greek ✓\n",
            "70000 70% (3m 53s) 3.1748 Casey / Arabic ✗ (Irish)\n",
            "75000 75% (4m 9s) 0.0487 Jachmentsev / Russian ✓\n",
            "80000 80% (4m 26s) 1.3196 Sheehy / Irish ✓\n",
            "85000 85% (4m 44s) 1.7066 Kunze / German ✓\n",
            "90000 90% (5m 1s) 1.2417 Jeong / Chinese ✗ (Korean)\n",
            "95000 95% (5m 18s) 0.4949 Janicek / Czech ✓\n",
            "100000 100% (5m 34s) 1.1969 Naifeh / Irish ✗ (Arabic)\n"
          ]
        }
      ],
      "source": [
        "import time\n",
        "import math\n",
        "\n",
        "n_iters = 100000\n",
        "print_every = 5000\n",
        "plot_every = 1000\n",
        "\n",
        "model_to_train = lstm\n",
        "\n",
        "\n",
        "\n",
        "# Keep track of losses for plotting\n",
        "current_loss = 0\n",
        "all_losses = []\n",
        "\n",
        "def timeSince(since):\n",
        "    now = time.time()\n",
        "    s = now - since\n",
        "    m = math.floor(s / 60)\n",
        "    s -= m * 60\n",
        "    return '%dm %ds' % (m, s)\n",
        "\n",
        "start = time.time()\n",
        "\n",
        "for iter in range(1, n_iters + 1):\n",
        "    category, line, category_tensor, line_tensor = randomTrainingExample()\n",
        "    output, loss = train(category_tensor, line_tensor, model_to_train)\n",
        "\n",
        "\n",
        "    current_loss += loss\n",
        "\n",
        "    # Print iter number, loss, name and guess\n",
        "    if iter % print_every == 0:\n",
        "        guess, guess_i = categoryFromOutput(output)\n",
        "        correct = '✓' if guess == category else '✗ (%s)' % category\n",
        "        print('%d %d%% (%s) %.4f %s / %s %s' % (iter, iter / n_iters * 100, timeSince(start), loss, line, guess, correct))\n",
        "\n",
        "    # Add current loss avg to list of losses\n",
        "    if iter % plot_every == 0:\n",
        "        all_losses.append(current_loss / plot_every)\n",
        "        current_loss = 0"
      ]
    },
    {
      "cell_type": "markdown",
      "metadata": {
        "id": "_OITaweXXxOV"
      },
      "source": [
        "Plotting the Results\n",
        "--------------------\n",
        "\n",
        "Plotting the historical loss from ``all_losses`` shows the network\n",
        "learning:\n",
        "\n",
        "\n"
      ]
    },
    {
      "cell_type": "code",
      "execution_count": 18,
      "metadata": {
        "id": "TAQ-MNe9XxOV",
        "outputId": "19538bed-c418-42fa-8203-b80af4a0551f",
        "colab": {
          "base_uri": "https://localhost:8080/",
          "height": 283
        }
      },
      "outputs": [
        {
          "output_type": "execute_result",
          "data": {
            "text/plain": [
              "[<matplotlib.lines.Line2D at 0x7f520811c0d0>]"
            ]
          },
          "metadata": {},
          "execution_count": 18
        },
        {
          "output_type": "display_data",
          "data": {
            "text/plain": [
              "<Figure size 432x288 with 1 Axes>"
            ],
            "image/png": "[encoded data removed]"
          },
          "metadata": {
            "needs_background": "light"
          }
        }
      ],
      "source": [
        "import matplotlib.pyplot as plt\n",
        "import matplotlib.ticker as ticker\n",
        "\n",
        "plt.figure()\n",
        "plt.plot(all_losses)"
      ]
    },
    {
      "cell_type": "markdown",
      "metadata": {
        "id": "f7NBMhqtXxOW"
      },
      "source": [
        "Evaluating the Results\n",
        "======================\n",
        "\n",
        "To see how well the network performs on different categories, we will\n",
        "create a confusion matrix, indicating for every actual language (rows)\n",
        "which language the network guesses (columns). To calculate the confusion\n",
        "matrix a bunch of samples are run through the network with\n",
        "``evaluate()``, which is the same as ``train()`` minus the backprop.\n",
        "\n",
        "\n"
      ]
    },
    {
      "cell_type": "code",
      "execution_count": 19,
      "metadata": {
        "id": "yFKv-RUiXxOW",
        "outputId": "a33a02f8-0d96-4c18-efd0-81401d1c9cf4",
        "colab": {
          "base_uri": "https://localhost:8080/",
          "height": 320
        }
      },
      "outputs": [
        {
          "output_type": "display_data",
          "data": {
            "text/plain": [
              "<Figure size 432x288 with 2 Axes>"
            ],
            "image/png": "[encoded data removed]"
          },
          "metadata": {
            "needs_background": "light"
          }
        }
      ],
      "source": [
        "# Keep track of correct guesses in a confusion matrix\n",
        "confusion = torch.zeros(n_categories, n_categories)\n",
        "n_confusion = 10000\n",
        "\n",
        "model_to_evaluate = lstm\n",
        "\n",
        "# Just return an output given a line\n",
        "def evaluate(line_tensor, model):\n",
        "    hidden = model.initHidden()\n",
        "\n",
        "    for i in range(line_tensor.size()[0]):\n",
        "        output, hidden = model(line_tensor[i], hidden)\n",
        "\n",
        "    return output\n",
        "\n",
        "# Go through a bunch of examples and record which are correctly guessed\n",
        "for i in range(n_confusion):\n",
        "    category, line, category_tensor, line_tensor = randomTrainingExample()\n",
        "    output = evaluate(line_tensor, model_to_evaluate)\n",
        "    guess, guess_i = categoryFromOutput(output)\n",
        "    category_i = all_categories.index(category)\n",
        "    confusion[category_i][guess_i] += 1\n",
        "\n",
        "# Normalize by dividing every row by its sum\n",
        "for i in range(n_categories):\n",
        "    confusion[i] = confusion[i] / confusion[i].sum()\n",
        "\n",
        "# Set up plot\n",
        "fig = plt.figure()\n",
        "ax = fig.add_subplot(111)\n",
        "cax = ax.matshow(confusion.numpy())\n",
        "fig.colorbar(cax)\n",
        "\n",
        "# Set up axes\n",
        "ax.set_xticklabels([''] + all_categories, rotation=90)\n",
        "ax.set_yticklabels([''] + all_categories)\n",
        "\n",
        "# Force label at every tick\n",
        "ax.xaxis.set_major_locator(ticker.MultipleLocator(1))\n",
        "ax.yaxis.set_major_locator(ticker.MultipleLocator(1))\n",
        "\n",
        "# sphinx_gallery_thumbnail_number = 2\n",
        "plt.show()"
      ]
    },
    {
      "cell_type": "markdown",
      "metadata": {
        "id": "HSvDjV8wXxOW"
      },
      "source": [
        "You can pick out bright spots off the main axis that show which\n",
        "languages it guesses incorrectly, e.g. Chinese for Korean, and Spanish\n",
        "for Italian. It seems to do very well with Greek, and very poorly with\n",
        "English (perhaps because of overlap with other languages as these are anglicized versions of the last names anyhow).\n",
        "\n",
        "\n"
      ]
    },
    {
      "cell_type": "markdown",
      "source": [
        "**YOUR TURN:** \n",
        "* When splitting the data into training, validation, and testing, what is something that you should consider about which data goes into each of these sets? ___________________________\n",
        "* Consider the metric of accuracy, which just scores correct predicitons / total predictions. Why is this metric not ideal for multiclass classification problems like this one? ___________________________\n",
        "* The data provided happened to have a pretty equal balance of names for each class. If the dataset is imbalanced, what do you think are appropriate ways to handle this? __________ If nothing is done to handle this, the model could achieve a very high accuracy. Why would this be the case, and would the high accuracy imply that the model is \"good\"? ___________\n",
        "* Try predicting on a random sequence of letters. Is the model confident about its response? How much do you think that this matters?\n",
        "* Try running the confusion matrix on our validation set and see how it differs!"
      ],
      "metadata": {
        "id": "f8UaDgoEw5P7"
      }
    },
    {
      "cell_type": "code",
      "source": [
        "#Insert test confusion matrix code here"
      ],
      "metadata": {
        "id": "VjIXxsWAwx-Z"
      },
      "execution_count": null,
      "outputs": []
    },
    {
      "cell_type": "markdown",
      "metadata": {
        "id": "i1-MYI_-XxOW"
      },
      "source": [
        "Running on User Input\n",
        "---------------------\n",
        "\n",
        "\n"
      ]
    },
    {
      "cell_type": "code",
      "execution_count": null,
      "metadata": {
        "id": "kd-ro2quXxOW",
        "outputId": "aa8d7d56-6803-490d-c109-6d94349d2393",
        "colab": {
          "base_uri": "https://localhost:8080/"
        }
      },
      "outputs": [
        {
          "output_type": "stream",
          "name": "stdout",
          "text": [
            "\n",
            "> Dovesky\n",
            "(-0.50) Russian\n",
            "(-1.76) Czech\n",
            "(-2.41) Polish\n",
            "\n",
            "> Jackson\n",
            "(-0.49) Scottish\n",
            "(-1.90) English\n",
            "(-2.92) Dutch\n",
            "\n",
            "> Satoshi\n",
            "(-0.48) Japanese\n",
            "(-1.19) Arabic\n",
            "(-3.15) Italian\n",
            "\n",
            "> Dovesky\n",
            "(-2.81) Russian\n",
            "(-2.84) Spanish\n",
            "(-2.84) Italian\n",
            "\n",
            "> Jackson\n",
            "(-2.78) Scottish\n",
            "(-2.79) Italian\n",
            "(-2.81) Vietnamese\n",
            "\n",
            "> Satoshi\n",
            "(-2.78) Vietnamese\n",
            "(-2.79) Arabic\n",
            "(-2.79) Portuguese\n"
          ]
        }
      ],
      "source": [
        "def predict(input_line, model, n_predictions=3):\n",
        "    print('\\n> %s' % input_line)\n",
        "    with torch.no_grad():\n",
        "        output = evaluate(lineToTensor(input_line), model)\n",
        "\n",
        "        # Get top N categories\n",
        "        topv, topi = output.topk(n_predictions, 1, True)\n",
        "        predictions = []\n",
        "\n",
        "        for i in range(n_predictions):\n",
        "            value = topv[0][i].item()\n",
        "            category_index = topi[0][i].item()\n",
        "            print('(%.2f) %s' % (value, all_categories[category_index]))\n",
        "            predictions.append([value, all_categories[category_index]])\n",
        "\n",
        "predict('Dovesky', lstm)\n",
        "predict('Jackson', lstm)\n",
        "predict('Satoshi', lstm)\n",
        "\n",
        "predict('Dovesky', rnn)\n",
        "predict('Jackson', rnn)\n",
        "predict('Satoshi', rnn)"
      ]
    }
  ],
  "metadata": {
    "kernelspec": {
      "display_name": "Python 3",
      "language": "python",
      "name": "python3"
    },
    "language_info": {
      "codemirror_mode": {
        "name": "ipython",
        "version": 3
      },
      "file_extension": ".py",
      "mimetype": "text/x-python",
      "name": "python",
      "nbconvert_exporter": "python",
      "pygments_lexer": "ipython3",
      "version": "3.7.13"
    },
    "colab": {
      "name": "lab_4_2_rnn.ipynb",
      "provenance": []
    }
  },
  "nbformat": 4,
  "nbformat_minor": 0
}