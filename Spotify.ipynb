{
 "cells": [
  {
   "cell_type": "markdown",
   "id": "61bb2959-ada0-4a01-bf62-14568b644c9c",
   "metadata": {},
   "source": [
    "[![Open In Colab](https://colab.research.google.com/assets/colab-badge.svg)](https://colab.research.google.com/github/lyeskhalil/mlbootcamp2022/blob/main/Spotify.ipynb)"
   ]
  },
  {
   "cell_type": "code",
   "execution_count": 87,
   "id": "2bb7f150-3d60-417d-9f5e-c2b6ffa7e4ea",
   "metadata": {},
   "outputs": [],
   "source": [
    "import pandas as pd\n",
    "from sklearn.ensemble import ExtraTreesClassifier\n",
    "from sklearn.model_selection import train_test_split"
   ]
  },
  {
   "cell_type": "code",
   "execution_count": null,
   "id": "f4b1ba8a-5a8b-4e74-87d0-201686b4f96c",
   "metadata": {},
   "outputs": [],
   "source": [
    "from pathlib import Path\n",
    "from os import system\n",
    "if not Path('AgeDataset-V1.csv.zip').exists():\n",
    "    system('wget --no-check-certificate --content-disposition https://github.com/lyeskhalil/mlbootcamp2022/raw/main/songs_normalize.csv')"
   ]
  },
  {
   "cell_type": "code",
   "execution_count": 71,
   "id": "1212b52a-ba27-4f7d-9597-1a3bce1d5477",
   "metadata": {},
   "outputs": [],
   "source": [
    "df = pd.read_csv('songs_normalize.csv')"
   ]
  },
  {
   "cell_type": "code",
   "execution_count": 99,
   "id": "9736e32a-e15f-4c38-ac5d-bcc84691a32f",
   "metadata": {},
   "outputs": [],
   "source": [
    "y = []\n",
    "for k,v in df.iterrows():\n",
    "    y_temp = {}\n",
    "    y_temp['idx'] = k\n",
    "    genres = v.genre.split(',')\n",
    "    for genre in genres:\n",
    "        for g in genre.split('/'):\n",
    "            y_temp[g.strip().lower()] = 1\n",
    "    y.append(y_temp)\n",
    "y = pd.DataFrame(y).set_index('idx').fillna(0).drop('set()',axis=1)"
   ]
  },
  {
   "cell_type": "code",
   "execution_count": 100,
   "id": "14fc4c37-31cd-4262-9b33-90fee93f8883",
   "metadata": {},
   "outputs": [],
   "source": [
    "X = df[[col for col in df.columns if col not in ['artist','song','genre']]]"
   ]
  },
  {
   "cell_type": "code",
   "execution_count": 101,
   "id": "49c37283-0e33-459d-bbdc-38a4ce11021d",
   "metadata": {},
   "outputs": [],
   "source": [
    "X_train, X_test, y_train, y_test = train_test_split(X,y,train_size=0.9,random_state=0)"
   ]
  },
  {
   "cell_type": "code",
   "execution_count": 102,
   "id": "6767f63b-9298-4bba-acee-f32d54fb1842",
   "metadata": {},
   "outputs": [
    {
     "data": {
      "text/plain": [
       "0.34"
      ]
     },
     "execution_count": 102,
     "metadata": {},
     "output_type": "execute_result"
    }
   ],
   "source": [
    "tree = ExtraTreesClassifier().fit(X_train,y_train)\n",
    "tree.score(X_test,y_test)"
   ]
  },
  {
   "cell_type": "code",
   "execution_count": null,
   "id": "45332e3f-1101-4cf3-a252-0ae2121f368e",
   "metadata": {},
   "outputs": [],
   "source": []
  }
 ],
 "metadata": {
  "kernelspec": {
   "display_name": "Python 3 (ipykernel)",
   "language": "python",
   "name": "python3"
  },
  "language_info": {
   "codemirror_mode": {
    "name": "ipython",
    "version": 3
   },
   "file_extension": ".py",
   "mimetype": "text/x-python",
   "name": "python",
   "nbconvert_exporter": "python",
   "pygments_lexer": "ipython3",
   "version": "3.9.13"
  }
 },
 "nbformat": 4,
 "nbformat_minor": 5
}
